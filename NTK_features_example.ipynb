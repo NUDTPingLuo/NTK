{
  "cells": [
    {
      "cell_type": "markdown",
      "metadata": {
        "id": "view-in-github",
        "colab_type": "text"
      },
      "source": [
        "<a href=\"https://colab.research.google.com/github/NUDTPingLuo/NTK/blob/main/NTK_features_example.ipynb\" target=\"_parent\"><img src=\"https://colab.research.google.com/assets/colab-badge.svg\" alt=\"Open In Colab\"/></a>"
      ]
    },
    {
      "cell_type": "code",
      "source": [
        "!pip install cleverhans neural_tangents"
      ],
      "metadata": {
        "id": "RJIyDWDZaRn5",
        "colab": {
          "base_uri": "https://localhost:8080/"
        },
        "outputId": "f5553ccc-ce2e-456a-9773-29be6513fa46"
      },
      "execution_count": 11,
      "outputs": [
        {
          "output_type": "stream",
          "name": "stdout",
          "text": [
            "Requirement already satisfied: cleverhans in /usr/local/lib/python3.11/dist-packages (4.0.0)\n",
            "Requirement already satisfied: neural_tangents in /usr/local/lib/python3.11/dist-packages (0.6.5)\n",
            "Requirement already satisfied: nose in /usr/local/lib/python3.11/dist-packages (from cleverhans) (1.3.7)\n",
            "Requirement already satisfied: pycodestyle in /usr/local/lib/python3.11/dist-packages (from cleverhans) (2.12.1)\n",
            "Requirement already satisfied: scipy in /usr/local/lib/python3.11/dist-packages (from cleverhans) (1.14.1)\n",
            "Requirement already satisfied: matplotlib in /usr/local/lib/python3.11/dist-packages (from cleverhans) (3.10.0)\n",
            "Requirement already satisfied: mnist in /usr/local/lib/python3.11/dist-packages (from cleverhans) (0.2.2)\n",
            "Requirement already satisfied: numpy in /usr/local/lib/python3.11/dist-packages (from cleverhans) (2.0.2)\n",
            "Requirement already satisfied: tensorflow-probability in /usr/local/lib/python3.11/dist-packages (from cleverhans) (0.25.0)\n",
            "Requirement already satisfied: joblib in /usr/local/lib/python3.11/dist-packages (from cleverhans) (1.4.2)\n",
            "Requirement already satisfied: easydict in /usr/local/lib/python3.11/dist-packages (from cleverhans) (1.13)\n",
            "Requirement already satisfied: absl-py in /usr/local/lib/python3.11/dist-packages (from cleverhans) (1.4.0)\n",
            "Requirement already satisfied: six in /usr/local/lib/python3.11/dist-packages (from cleverhans) (1.17.0)\n",
            "Requirement already satisfied: jax>=0.4.16 in /usr/local/lib/python3.11/dist-packages (from neural_tangents) (0.5.2)\n",
            "Requirement already satisfied: frozendict>=2.3.8 in /usr/local/lib/python3.11/dist-packages (from neural_tangents) (2.4.6)\n",
            "Requirement already satisfied: tensorflow>=2.15.0 in /usr/local/lib/python3.11/dist-packages (from neural_tangents) (2.18.0)\n",
            "Requirement already satisfied: tf2jax>=0.3.5 in /usr/local/lib/python3.11/dist-packages (from neural_tangents) (0.3.7)\n",
            "Requirement already satisfied: jaxlib<=0.5.2,>=0.5.1 in /usr/local/lib/python3.11/dist-packages (from jax>=0.4.16->neural_tangents) (0.5.1)\n",
            "Requirement already satisfied: ml_dtypes>=0.4.0 in /usr/local/lib/python3.11/dist-packages (from jax>=0.4.16->neural_tangents) (0.4.1)\n",
            "Requirement already satisfied: opt_einsum in /usr/local/lib/python3.11/dist-packages (from jax>=0.4.16->neural_tangents) (3.4.0)\n",
            "Requirement already satisfied: astunparse>=1.6.0 in /usr/local/lib/python3.11/dist-packages (from tensorflow>=2.15.0->neural_tangents) (1.6.3)\n",
            "Requirement already satisfied: flatbuffers>=24.3.25 in /usr/local/lib/python3.11/dist-packages (from tensorflow>=2.15.0->neural_tangents) (25.2.10)\n",
            "Requirement already satisfied: gast!=0.5.0,!=0.5.1,!=0.5.2,>=0.2.1 in /usr/local/lib/python3.11/dist-packages (from tensorflow>=2.15.0->neural_tangents) (0.6.0)\n",
            "Requirement already satisfied: google-pasta>=0.1.1 in /usr/local/lib/python3.11/dist-packages (from tensorflow>=2.15.0->neural_tangents) (0.2.0)\n",
            "Requirement already satisfied: libclang>=13.0.0 in /usr/local/lib/python3.11/dist-packages (from tensorflow>=2.15.0->neural_tangents) (18.1.1)\n",
            "Requirement already satisfied: packaging in /usr/local/lib/python3.11/dist-packages (from tensorflow>=2.15.0->neural_tangents) (24.2)\n",
            "Requirement already satisfied: protobuf!=4.21.0,!=4.21.1,!=4.21.2,!=4.21.3,!=4.21.4,!=4.21.5,<6.0.0dev,>=3.20.3 in /usr/local/lib/python3.11/dist-packages (from tensorflow>=2.15.0->neural_tangents) (5.29.4)\n",
            "Requirement already satisfied: requests<3,>=2.21.0 in /usr/local/lib/python3.11/dist-packages (from tensorflow>=2.15.0->neural_tangents) (2.32.3)\n",
            "Requirement already satisfied: setuptools in /usr/local/lib/python3.11/dist-packages (from tensorflow>=2.15.0->neural_tangents) (75.1.0)\n",
            "Requirement already satisfied: termcolor>=1.1.0 in /usr/local/lib/python3.11/dist-packages (from tensorflow>=2.15.0->neural_tangents) (2.5.0)\n",
            "Requirement already satisfied: typing-extensions>=3.6.6 in /usr/local/lib/python3.11/dist-packages (from tensorflow>=2.15.0->neural_tangents) (4.12.2)\n",
            "Requirement already satisfied: wrapt>=1.11.0 in /usr/local/lib/python3.11/dist-packages (from tensorflow>=2.15.0->neural_tangents) (1.17.2)\n",
            "Requirement already satisfied: grpcio<2.0,>=1.24.3 in /usr/local/lib/python3.11/dist-packages (from tensorflow>=2.15.0->neural_tangents) (1.71.0)\n",
            "Requirement already satisfied: tensorboard<2.19,>=2.18 in /usr/local/lib/python3.11/dist-packages (from tensorflow>=2.15.0->neural_tangents) (2.18.0)\n",
            "Requirement already satisfied: keras>=3.5.0 in /usr/local/lib/python3.11/dist-packages (from tensorflow>=2.15.0->neural_tangents) (3.8.0)\n",
            "Requirement already satisfied: h5py>=3.11.0 in /usr/local/lib/python3.11/dist-packages (from tensorflow>=2.15.0->neural_tangents) (3.13.0)\n",
            "Requirement already satisfied: tensorflow-io-gcs-filesystem>=0.23.1 in /usr/local/lib/python3.11/dist-packages (from tensorflow>=2.15.0->neural_tangents) (0.37.1)\n",
            "Requirement already satisfied: dm-tree>=0.1.5 in /usr/local/lib/python3.11/dist-packages (from tf2jax>=0.3.5->neural_tangents) (0.1.9)\n",
            "Requirement already satisfied: contourpy>=1.0.1 in /usr/local/lib/python3.11/dist-packages (from matplotlib->cleverhans) (1.3.1)\n",
            "Requirement already satisfied: cycler>=0.10 in /usr/local/lib/python3.11/dist-packages (from matplotlib->cleverhans) (0.12.1)\n",
            "Requirement already satisfied: fonttools>=4.22.0 in /usr/local/lib/python3.11/dist-packages (from matplotlib->cleverhans) (4.56.0)\n",
            "Requirement already satisfied: kiwisolver>=1.3.1 in /usr/local/lib/python3.11/dist-packages (from matplotlib->cleverhans) (1.4.8)\n",
            "Requirement already satisfied: pillow>=8 in /usr/local/lib/python3.11/dist-packages (from matplotlib->cleverhans) (11.1.0)\n",
            "Requirement already satisfied: pyparsing>=2.3.1 in /usr/local/lib/python3.11/dist-packages (from matplotlib->cleverhans) (3.2.1)\n",
            "Requirement already satisfied: python-dateutil>=2.7 in /usr/local/lib/python3.11/dist-packages (from matplotlib->cleverhans) (2.8.2)\n",
            "Requirement already satisfied: decorator in /usr/local/lib/python3.11/dist-packages (from tensorflow-probability->cleverhans) (4.4.2)\n",
            "Requirement already satisfied: cloudpickle>=1.3 in /usr/local/lib/python3.11/dist-packages (from tensorflow-probability->cleverhans) (3.1.1)\n",
            "Requirement already satisfied: wheel<1.0,>=0.23.0 in /usr/local/lib/python3.11/dist-packages (from astunparse>=1.6.0->tensorflow>=2.15.0->neural_tangents) (0.45.1)\n",
            "Requirement already satisfied: attrs>=18.2.0 in /usr/local/lib/python3.11/dist-packages (from dm-tree>=0.1.5->tf2jax>=0.3.5->neural_tangents) (25.3.0)\n",
            "Requirement already satisfied: rich in /usr/local/lib/python3.11/dist-packages (from keras>=3.5.0->tensorflow>=2.15.0->neural_tangents) (13.9.4)\n",
            "Requirement already satisfied: namex in /usr/local/lib/python3.11/dist-packages (from keras>=3.5.0->tensorflow>=2.15.0->neural_tangents) (0.0.8)\n",
            "Requirement already satisfied: optree in /usr/local/lib/python3.11/dist-packages (from keras>=3.5.0->tensorflow>=2.15.0->neural_tangents) (0.14.1)\n",
            "Requirement already satisfied: charset-normalizer<4,>=2 in /usr/local/lib/python3.11/dist-packages (from requests<3,>=2.21.0->tensorflow>=2.15.0->neural_tangents) (3.4.1)\n",
            "Requirement already satisfied: idna<4,>=2.5 in /usr/local/lib/python3.11/dist-packages (from requests<3,>=2.21.0->tensorflow>=2.15.0->neural_tangents) (3.10)\n",
            "Requirement already satisfied: urllib3<3,>=1.21.1 in /usr/local/lib/python3.11/dist-packages (from requests<3,>=2.21.0->tensorflow>=2.15.0->neural_tangents) (2.3.0)\n",
            "Requirement already satisfied: certifi>=2017.4.17 in /usr/local/lib/python3.11/dist-packages (from requests<3,>=2.21.0->tensorflow>=2.15.0->neural_tangents) (2025.1.31)\n",
            "Requirement already satisfied: markdown>=2.6.8 in /usr/local/lib/python3.11/dist-packages (from tensorboard<2.19,>=2.18->tensorflow>=2.15.0->neural_tangents) (3.7)\n",
            "Requirement already satisfied: tensorboard-data-server<0.8.0,>=0.7.0 in /usr/local/lib/python3.11/dist-packages (from tensorboard<2.19,>=2.18->tensorflow>=2.15.0->neural_tangents) (0.7.2)\n",
            "Requirement already satisfied: werkzeug>=1.0.1 in /usr/local/lib/python3.11/dist-packages (from tensorboard<2.19,>=2.18->tensorflow>=2.15.0->neural_tangents) (3.1.3)\n",
            "Requirement already satisfied: MarkupSafe>=2.1.1 in /usr/local/lib/python3.11/dist-packages (from werkzeug>=1.0.1->tensorboard<2.19,>=2.18->tensorflow>=2.15.0->neural_tangents) (3.0.2)\n",
            "Requirement already satisfied: markdown-it-py>=2.2.0 in /usr/local/lib/python3.11/dist-packages (from rich->keras>=3.5.0->tensorflow>=2.15.0->neural_tangents) (3.0.0)\n",
            "Requirement already satisfied: pygments<3.0.0,>=2.13.0 in /usr/local/lib/python3.11/dist-packages (from rich->keras>=3.5.0->tensorflow>=2.15.0->neural_tangents) (2.18.0)\n",
            "Requirement already satisfied: mdurl~=0.1 in /usr/local/lib/python3.11/dist-packages (from markdown-it-py>=2.2.0->rich->keras>=3.5.0->tensorflow>=2.15.0->neural_tangents) (0.1.2)\n"
          ]
        }
      ]
    },
    {
      "cell_type": "code",
      "execution_count": 12,
      "metadata": {
        "id": "vVzNI23kaBHW"
      },
      "outputs": [],
      "source": [
        "import tensorflow as tf\n",
        "tf.config.experimental.set_visible_devices([], \"GPU\")\n",
        "import matplotlib.pyplot as plt\n",
        "import numpy as np\n",
        "import jax.numpy as jnp\n",
        "import jax.random as random\n",
        "import jax\n",
        "import tensorflow_datasets as tfds\n",
        "from jax import scipy as sp\n",
        "from jax import vmap, grad, jacfwd\n",
        "from jax.example_libraries.stax import logsoftmax\n",
        "from cleverhans.jax.utils import clip_eta, one_hot\n",
        "import functools\n",
        "import neural_tangents as nt\n",
        "from neural_tangents import stax"
      ]
    },
    {
      "cell_type": "code",
      "source": [
        "def compute_approximate_vectors(vectors_m, k):\n",
        "    \"\"\"\n",
        "    对 m 个向量组成的矩阵进行奇异值分解，选择前 k 个奇异值和对应的奇异向量，重建近似的 m x d 矩阵。\n",
        "\n",
        "    参数:\n",
        "        vectors_m (np.ndarray): m 个向量组成的矩阵，形状为 (m, d)。\n",
        "        k (int): 选择的前 k 个奇异值和奇异向量。\n",
        "\n",
        "    返回:\n",
        "        vectors_m_k (np.ndarray): 近似的 m x d 矩阵。\n",
        "        singular_values (np.ndarray): 前 k 个奇异值，形状为 (k,)。\n",
        "        singular_vectors (np.ndarray): 对应的右奇异向量，形状为 (d, k)。\n",
        "    \"\"\"\n",
        "    # 1. 对 vectors_m 进行奇异值分解\n",
        "    U, S, Vt = np.linalg.svd(vectors_m, full_matrices=False)\n",
        "\n",
        "    # 2. 选择前 k 个奇异值和对应的奇异向量\n",
        "    U_k = U[:, :k]  # 左奇异向量，形状为 (m, k)\n",
        "    S_k = S[:k]  # 奇异值，形状为 (k,)\n",
        "    Vt_k = Vt[:k, :]  # 右奇异向量，形状为 (k, d)\n",
        "\n",
        "    # 3. 重建近似的 m x d 矩阵\n",
        "    vectors_m_k = np.dot(U_k, np.dot(np.diag(S_k), Vt_k))\n",
        "\n",
        "    return vectors_m_k, S_k, Vt_k.T  # Vt_k.T 是右奇异向量的转置，形状为 (d, k)\n",
        "\n",
        "\n",
        "def compute_full_matrix(vectors_n, vectors_m_k):\n",
        "    \"\"\"\n",
        "    将 n 个向量和近似的 m 个向量组合成 (m+n) x d 矩阵，并计算 (m+n) x (m+n) 的内积矩阵。\n",
        "\n",
        "    参数:\n",
        "        vectors_n (np.ndarray): n 个向量组成的矩阵，形状为 (n, d)。\n",
        "        vectors_m_k (np.ndarray): 近似的 m 个向量组成的矩阵，形状为 (m, d)。\n",
        "\n",
        "    返回:\n",
        "        full_matrix (np.ndarray): (m+n) x (m+n) 的内积矩阵。\n",
        "    \"\"\"\n",
        "    # 1. 组合成 (m+n) x d 矩阵\n",
        "    combined_vectors = np.vstack((vectors_n, vectors_m_k))  # 形状为 (m+n, d)\n",
        "\n",
        "    # 2. 计算 (m+n) x (m+n) 的内积矩阵\n",
        "    full_matrix = np.dot(combined_vectors, combined_vectors.T)\n",
        "\n",
        "    return full_matrix\n",
        "\n",
        "def compute_eigenvalues(matrix):\n",
        "    \"\"\"\n",
        "    计算矩阵的特征值。\n",
        "    \"\"\"\n",
        "    return np.linalg.eigvals(matrix)\n",
        "\n",
        "# 示例用法\n",
        "if __name__ == \"__main__\":\n",
        "    # 随机生成数据\n",
        "    n = 5  # n 个向量\n",
        "    m = 4  # m 个向量\n",
        "    d = 3  # 向量维度\n",
        "    vectors_n = np.random.rand(n, d)  # 随机生成 n 个 d 维向量\n",
        "    vectors_m = np.random.rand(m, d)  # 随机生成 m 个 d 维向量\n",
        "\n",
        "    # 选择前 k 个奇异值\n",
        "    k = 2\n",
        "\n",
        "    # 对 m 个向量进行奇异值分解，并重建近似的 m x d 矩阵\n",
        "    vectors_m_k, singular_values, singular_vectors = compute_approximate_vectors(vectors_m, k)\n",
        "\n",
        "    # 计算 (m+n) x (m+n) 的内积矩阵\n",
        "    full_matrix_ori = compute_full_matrix(vectors_n, vectors_m)\n",
        "    full_matrix = compute_full_matrix(vectors_n, vectors_m_k)\n",
        "\n",
        "    # 计算特征值\n",
        "    eigenvalues_ori = compute_eigenvalues(full_matrix_ori)  # 原来的矩阵特征值\n",
        "    eigenvalues = compute_eigenvalues(full_matrix)    # 近似后的矩阵特征值\n",
        "\n",
        "    # 打印结果\n",
        "    print(\"m 个向量的原始矩阵:\")\n",
        "    print(vectors_m)\n",
        "\n",
        "    print(\"\\n重建的近似的 m x d 矩阵:\")\n",
        "    print(vectors_m_k)\n",
        "\n",
        "    print(\"\\n(m+n) x (m+n) 的原始内积矩阵:\")\n",
        "    print(full_matrix_ori)\n",
        "\n",
        "    print(\"\\n(m+n) x (m+n) 的内积矩阵:\")\n",
        "    print(full_matrix)\n",
        "\n",
        "    print(\"\\n原来的 (m+n)*(m+n) 矩阵的特征值：\")\n",
        "    print(eigenvalues_ori)\n",
        "\n",
        "    print(\"\\n近似后的 (m+n)*(m+n) 矩阵的特征值：\")\n",
        "    print(eigenvalues)\n"
      ],
      "metadata": {
        "colab": {
          "base_uri": "https://localhost:8080/"
        },
        "id": "wNGW0ySDxPFG",
        "outputId": "e2b31d84-6c90-4074-cfe6-e5317306fc96"
      },
      "execution_count": 13,
      "outputs": [
        {
          "output_type": "stream",
          "name": "stdout",
          "text": [
            "m 个向量的原始矩阵:\n",
            "[[0.219505   0.42973352 0.20595139]\n",
            " [0.03427221 0.23679569 0.82940553]\n",
            " [0.16996188 0.94846723 0.64923051]\n",
            " [0.43276193 0.60600125 0.71345785]]\n",
            "\n",
            "重建的近似的 m x d 矩阵:\n",
            "[[0.16243328 0.4500223  0.20662865]\n",
            " [0.08731194 0.21794027 0.82877612]\n",
            " [0.32523587 0.89326791 0.64738789]\n",
            " [0.24735508 0.67191269 0.71565805]]\n",
            "\n",
            "(m+n) x (m+n) 的原始内积矩阵:\n",
            "[[1.6936053  1.04518965 1.78158444 0.99823313 1.20857102 0.67516689\n",
            "  0.81777959 1.4651642  1.30315341]\n",
            " [1.04518965 0.89073136 0.98524479 0.76409869 0.45207296 0.45374034\n",
            "  0.21567306 0.83073995 0.71631234]\n",
            " [1.78158444 0.98524479 1.92734691 0.97517319 1.40844546 0.69322926\n",
            "  0.99363576 1.57785793 1.41003747]\n",
            " [0.99823313 0.76409869 0.97517319 1.0587242  0.50415609 0.40624819\n",
            "  0.37062782 0.66749942 0.82092182]\n",
            " [1.20857102 0.45207296 1.40844546 0.50415609 1.21626589 0.43863087\n",
            "  0.92400509 1.14581589 1.02640589]\n",
            " [0.67516689 0.45374034 0.69322926 0.40624819 0.43863087 0.27526932\n",
            "  0.28009919 0.57860557 0.50235009]\n",
            " [0.81777959 0.21567306 0.99363576 0.37062782 0.92400509 0.28009919\n",
            "  0.74516032 0.7688933  0.75007608]\n",
            " [1.4651642  0.83073995 1.57785793 0.66749942 1.14581589 0.57860557\n",
            "  0.7688933  1.34997738 1.11152396]\n",
            " [1.30315341 0.71631234 1.41003747 0.82092182 1.02640589 0.50235009\n",
            "  0.75007608 1.11152396 1.06354251]]\n",
            "\n",
            "(m+n) x (m+n) 的内积矩阵:\n",
            "[[1.6936053  1.04518965 1.78158444 0.99823313 1.20857102 0.66697178\n",
            "  0.82539572 1.48746047 1.27653027]\n",
            " [1.04518965 0.89073136 0.98524479 0.76409869 0.45207296 0.43758548\n",
            "  0.23068662 0.87469219 0.66383062]\n",
            " [1.78158444 0.98524479 1.92734691 0.97517319 1.40844546 0.69031899\n",
            "  0.99634043 1.58577586 1.40058296]\n",
            " [0.99823313 0.76409869 0.97517319 1.0587242  0.50415609 0.36020039\n",
            "  0.41342246 0.79278085 0.67132796]\n",
            " [1.20857102 0.45207296 1.40844546 0.50415609 1.21626589 0.44887565\n",
            "  0.91448408 1.1179431  1.05968773]\n",
            " [0.66697178 0.43758548 0.69031899 0.36020039 0.44887565 0.27160004\n",
            "  0.28350924 0.5885885  0.49042985]\n",
            " [0.82539572 0.23068662 0.99634043 0.41342246 0.91448408 0.28350924\n",
            "  0.74199119 0.75961564 0.76115419]\n",
            " [1.48746047 0.87469219 1.58577586 0.79278085 1.1179431  0.5885885\n",
            "  0.75961564 1.32281701 1.14395514]\n",
            " [1.27653027 0.66383062 1.40058296 0.67132796 1.05968773 0.49042985\n",
            "  0.76115419 1.14395514 1.02481765]]\n",
            "\n",
            "原来的 (m+n)*(m+n) 矩阵的特征值：\n",
            "[ 8.72135339e+00+0.00000000e+00j  1.09490164e+00+0.00000000e+00j\n",
            "  4.04368157e-01+0.00000000e+00j  1.65653043e-16+0.00000000e+00j\n",
            "  5.43863391e-18+1.40186499e-16j  5.43863391e-18-1.40186499e-16j\n",
            "  8.31604448e-17+0.00000000e+00j  6.19615051e-18+0.00000000e+00j\n",
            " -6.69959019e-17+0.00000000e+00j]\n",
            "\n",
            "近似后的 (m+n)*(m+n) 矩阵的特征值：\n",
            "[ 8.72067076e+00+0.00000000e+00j  1.06638593e+00+0.00000000e+00j\n",
            "  3.60842853e-01+0.00000000e+00j -2.30967974e-16+0.00000000e+00j\n",
            " -5.26922457e-16+0.00000000e+00j -3.77040510e-17+4.88609286e-17j\n",
            " -3.77040510e-17-4.88609286e-17j  1.54465894e-16+0.00000000e+00j\n",
            "  2.66494564e-16+0.00000000e+00j]\n"
          ]
        }
      ]
    },
    {
      "cell_type": "markdown",
      "metadata": {
        "id": "JWgB_hZpaBHY"
      },
      "source": [
        "### Options"
      ]
    },
    {
      "cell_type": "code",
      "execution_count": 14,
      "metadata": {
        "id": "A83_vcWL0__f"
      },
      "outputs": [],
      "source": [
        "DATASET = 'cifar10' #@param ['cifar10', 'mnist']\n",
        "TASK = 'binary' #@param ['binary', 'multiclass']\n",
        "TRAIN_BATCH_SIZE = 2000 #@param\n",
        "TEST_BATCH_SIZE = 100 #@param\n",
        "RANDOM_LABELS = False\n",
        "NORMLZ = False #@param {type:\"boolean\"}"
      ]
    },
    {
      "cell_type": "markdown",
      "metadata": {
        "id": "cb3cTvj4aBHa"
      },
      "source": [
        "### Utils"
      ]
    },
    {
      "cell_type": "code",
      "execution_count": 15,
      "metadata": {
        "id": "SM1yc9liaBHa"
      },
      "outputs": [],
      "source": [
        "def normalize_img(tensor):\n",
        "    tensor = (tensor - tensor.min()) / (tensor.max() - tensor.min())\n",
        "    return tensor\n",
        "\n",
        "def binarize_labels(labels):\n",
        "    labels = np.array(labels)\n",
        "    bin = lambda x: -1 if x == 0 else 1\n",
        "    return jnp.array(np.vectorize(bin)(labels))\n",
        "\n",
        "def select_data(images, _labels, class1, class2):\n",
        "    idx = np.logical_or(_labels == class1, _labels == class2)\n",
        "    images = images[idx]\n",
        "    labels = _labels[idx]\n",
        "    return images, labels\n",
        "\n",
        "def get_tfds_dataset(name):\n",
        "    assert name in ['cifar10', 'mnist']\n",
        "    ds_train, ds_test = tfds.as_numpy(\n",
        "      tfds.load(\n",
        "          name,\n",
        "          split=['train', 'test'],\n",
        "          batch_size=-1,\n",
        "          as_dataset_kwargs={'shuffle_files': True}))\n",
        "\n",
        "    return ds_train['image'], ds_train['label'], ds_test['image'], ds_test['label']\n",
        "\n",
        "def one_hot(x,\n",
        "            num_classes,\n",
        "            center=False,\n",
        "            dtype=np.float32):\n",
        "    assert len(x.shape) == 1\n",
        "    one_hot_vectors = np.array(x[:, None] == np.arange(num_classes), dtype)\n",
        "    if center:\n",
        "        one_hot_vectors = one_hot_vectors - 1. / num_classes\n",
        "    return one_hot_vectors\n",
        "\n",
        "def _fast_gradient_method(\n",
        "    model_fn, x, eps, norm, clip_min=None, clip_max=None, y=None, binary=True\n",
        "):\n",
        "\n",
        "    if y is None:\n",
        "        # Using model predictions as ground truth to avoid label leaking\n",
        "        if (binary):\n",
        "            y = jnp.sign(model_fn(x))\n",
        "        else:\n",
        "            x_labels = jnp.argmax(model_fn(x), axis=1)\n",
        "            y = one_hot(x_labels, 10)\n",
        "\n",
        "\n",
        "    def loss_adv_multi(image, label):\n",
        "        pred = model_fn(jnp.expand_dims(image, axis=0))\n",
        "        loss = -jnp.sum(logsoftmax(pred) * label)\n",
        "        return loss\n",
        "\n",
        "    def bce_w_logits(img, y, weight=None, average=False):\n",
        "        \"\"\"\n",
        "        Binary Cross Entropy Loss\n",
        "        Should be numerically stable, built based on: https://github.com/pytorch/pytorch/issues/751\n",
        "        :param x: Input tensor\n",
        "        :param y: Target tensor\n",
        "        :param weight: Vector of example weights\n",
        "        :param average: Boolean to average resulting loss vector\n",
        "        :return: Scalar value\n",
        "        \"\"\"\n",
        "        x = model_fn(img)\n",
        "        if (-1. in y):\n",
        "            y = (y+1)/2\n",
        "        max_val = jnp.clip(x, 0, None)\n",
        "        loss = x - x * y + max_val + jnp.log(jnp.exp(-max_val) + jnp.exp((-x - max_val)))\n",
        "\n",
        "        if weight is not None:\n",
        "            loss = loss * weight\n",
        "\n",
        "        if average:\n",
        "            return loss.mean()\n",
        "        else:\n",
        "            return loss.sum()\n",
        "\n",
        "    avoid_zero = 1e-3\n",
        "    if (binary):\n",
        "        grads_fn = grad(bce_w_logits)\n",
        "    else:\n",
        "        grads_fn = vmap(grad(loss_adv_multi), in_axes=(0, 0), out_axes=0)\n",
        "    # works for find_rob_kernel\n",
        "    grads = grads_fn(x, y)\n",
        "\n",
        "    axis = list(range(1, len(grads.shape)))\n",
        "    avoid_zero_div = 1e-12\n",
        "    if norm == np.inf:\n",
        "        perturbation = eps * jnp.sign(grads)\n",
        "    elif norm == 2:\n",
        "        square = np.maximum(\n",
        "            avoid_zero_div, np.sum(np.square(grads), axis=axis, keepdims=True)\n",
        "        )\n",
        "        perturbation = grads / np.sqrt(square)\n",
        "\n",
        "    adv_x = x + perturbation\n",
        "    # If clipping is needed, reset all values outside of [clip_min, clip_max]\n",
        "    if (clip_min is not None) or (clip_max is not None):\n",
        "        # We don't currently support one-sided clipping\n",
        "        assert clip_min is not None and clip_max is not None\n",
        "        adv_x = np.clip(adv_x, a_min=clip_min, a_max=clip_max)\n",
        "    return adv_x, grads\n",
        "\n",
        "def _projected_gradient_descent(\n",
        "    model_fn,\n",
        "    x,\n",
        "    eps,\n",
        "    eps_iter,\n",
        "    nb_iter,\n",
        "    norm,\n",
        "    clip_min=None,\n",
        "    clip_max=None,\n",
        "    y=None,\n",
        "    binary=True,\n",
        "    rand_init=None,\n",
        "    rand_minmax=0.3,\n",
        "):\n",
        "    \"\"\"\n",
        "    This class implements either the Basic Iterative Method\n",
        "    (Kurakin et al. 2016) when rand_init is set to 0. or the\n",
        "    Madry et al. (2017) method when rand_minmax is larger than 0.\n",
        "    Paper link (Kurakin et al. 2016): https://arxiv.org/pdf/1607.02533.pdf\n",
        "    Paper link (Madry et al. 2017): https://arxiv.org/pdf/1706.06083.pdf\n",
        "    :param model_fn: a callable that takes an input tensor and returns the model logits.\n",
        "    :param x: input tensor.\n",
        "    :param eps: epsilon (input variation parameter); see https://arxiv.org/abs/1412.6572.\n",
        "    :param eps_iter: step size for each attack iteration\n",
        "    :param nb_iter: Number of attack iterations.\n",
        "    :param norm: Order of the norm (mimics NumPy). Possible values: np.inf or 2.\n",
        "    :param clip_min: (optional) float. Minimum float value for adversarial example components.\n",
        "    :param clip_max: (optional) float. Maximum float value for adversarial example components.\n",
        "    :param y: (optional) Tensor with true labels. If targeted is true, then provide the\n",
        "              target label. Otherwise, only provide this parameter if you'd like to use true\n",
        "              labels when crafting adversarial samples. Otherwise, model predictions are used\n",
        "              as labels to avoid the \"label leaking\" effect (explained in this paper:\n",
        "              https://arxiv.org/abs/1611.01236). Default is None.\n",
        "    :param targeted: (optional) bool. Is the attack targeted or untargeted?\n",
        "              Untargeted, the default, will try to make the label incorrect.\n",
        "              Targeted will instead try to move in the direction of being more like y.\n",
        "    :return: a tensor for the adversarial example\n",
        "    \"\"\"\n",
        "\n",
        "    assert eps_iter <= eps, (eps_iter, eps)\n",
        "    if norm == 1:\n",
        "        raise NotImplementedError(\n",
        "            \"It's not clear that FGM is a good inner loop\"\n",
        "            \" step for PGD when norm=1, because norm=1 FGM \"\n",
        "            \" changes only one pixel at a time. We need \"\n",
        "            \" to rigorously test a strong norm=1 PGD \"\n",
        "            \"before enabling this feature.\"\n",
        "        )\n",
        "    if norm not in [np.inf, 2]:\n",
        "        raise ValueError(\"Norm order must be either np.inf or 2.\")\n",
        "\n",
        "    # Initialize loop variables\n",
        "    if rand_init:\n",
        "        rand_minmax = eps\n",
        "        eta = np.random.uniform(x.shape, -rand_minmax, rand_minmax)\n",
        "    else:\n",
        "        eta = np.zeros_like(x)\n",
        "\n",
        "    # Clip eta\n",
        "    eta = clip_eta(eta, norm, eps)\n",
        "    adv_x = x + eta\n",
        "    if clip_min is not None or clip_max is not None:\n",
        "        adv_x = np.clip(adv_x, a_min=clip_min, a_max=clip_max)\n",
        "\n",
        "    if y is None:\n",
        "        # Using model predictions as ground truth to avoid label leaking\n",
        "        x_labels = np.argmax(model_fn(x), 1)\n",
        "        y = one_hot(x_labels, 10)\n",
        "\n",
        "    for _ in range(nb_iter):\n",
        "        adv_x, _ = _fast_gradient_method(\n",
        "            model_fn,\n",
        "            adv_x,\n",
        "            eps_iter,\n",
        "            norm,\n",
        "            clip_min=clip_min,\n",
        "            clip_max=clip_max,\n",
        "            y=y,\n",
        "            binary=binary\n",
        "        )\n",
        "\n",
        "        # Clipping perturbation eta to norm norm ball\n",
        "        eta = adv_x - x\n",
        "        eta = clip_eta(eta, norm, eps)\n",
        "        adv_x = x + eta\n",
        "\n",
        "        # Redo the clipping.\n",
        "        # FGM already did it, but subtracting and re-adding eta can add some\n",
        "        # small numerical error.\n",
        "        if clip_min is not None or clip_max is not None:\n",
        "            adv_x = np.clip(adv_x, a_min=clip_min, a_max=clip_max)\n",
        "\n",
        "    return adv_x\n",
        "\n",
        "class OverCompleteKernel():\n",
        "\n",
        "    def __init__(self, kernel_fn, x_train, y_train):\n",
        "        _kernel_fn = nt.batch(kernel_fn, device_count=-1, batch_size=50)\n",
        "        self.KERNEL_FN = lambda x, x_: kernel_fn(x, x_, 'ntk')\n",
        "        self._KERNEL_FN = lambda x, x_: _kernel_fn(x, x_, 'ntk')\n",
        "        self.k_ss = self.KERNEL_FN(x_train, x_train)\n",
        "        self.x_train, self.y_train = x_train, y_train\n",
        "        self.inv_k_ss = None\n",
        "        self.l = None\n",
        "        self.v = None\n",
        "\n",
        "\n",
        "    def init_from_matrix(self, kernel_fn, kernel, x_train, y_train):\n",
        "        self.KERNEL_FN = kernel_fn\n",
        "        self.k_ss = kernel\n",
        "        self.x_train, self.y_train = x_train, y_train\n",
        "        self.inv_k_ss = None\n",
        "        self.l = None\n",
        "        self.v = None\n",
        "\n",
        "    def compute_eig_kernel(self, eig_idx): # temporary fix for OOM bug\n",
        "        if (self.l == None):\n",
        "            self.l, self.v = jnp.linalg.eigh(self.inv_k_ss)\n",
        "        V = jnp.array(jnp.take(self.v, eig_idx, axis=1), ndmin=2)\n",
        "        Lambda = jnp.array(jnp.diag(jnp.take(self.l, eig_idx).reshape(-1)), ndmin=2)\n",
        "        Lambda_diag = jnp.diag(Lambda)\n",
        "        sorted_diag = jnp.sort(Lambda_diag)[::-1]\n",
        "        print('对角线元素从小到大排序：', sorted_diag)\n",
        "        sorted_indices = jnp.argsort(Lambda_diag)[::-1]  # 先升序再翻转\n",
        "        top_k = 500  # 需要前 100 个\n",
        "        bottom_k = 100  # 需要后 100 个\n",
        "\n",
        "        # 如果元素不足 100，则取最大可能的数量\n",
        "        num_elements = len(sorted_indices)\n",
        "        top_part = sorted_indices[:min(top_k, num_elements)]  # 取前100个\n",
        "        bottom_part = sorted_indices[-min(bottom_k, num_elements):]  # 取后100个\n",
        "\n",
        "        # 组合索引\n",
        "        final_indices = jnp.concatenate([top_part, bottom_part])\n",
        "        eig_idx = final_indices\n",
        "        V = jnp.array(jnp.take(self.v, eig_idx, axis=1), ndmin=2)\n",
        "        Lambda = jnp.array(jnp.diag(jnp.take(self.l, eig_idx).reshape(-1)), ndmin=2)\n",
        "        print('lambda:', Lambda)\n",
        "        try:\n",
        "            assert eig_idx.shape[0] > 1\n",
        "            return V @ Lambda @ V.T\n",
        "        except:\n",
        "            return V.reshape(-1, 1) @ Lambda.reshape(1, 1) @ V.T.reshape(1, -1)\n",
        "\n",
        "\n",
        "    def model_fn(self, eig_idx=None):\n",
        "        if (eig_idx is not None):\n",
        "            if (self.l is None):\n",
        "                self.inv_k_ss = jnp.linalg.inv(self.k_ss)\n",
        "            _inv_idx = self.compute_eig_kernel(eig_idx)\n",
        "            train_component = _inv_idx @ self.y_train\n",
        "        else:\n",
        "            _k_ss = self.k_ss\n",
        "            print('核矩阵:', _k_ss.shape)\n",
        "            train_component = sp.linalg.solve(_k_ss, self.y_train, assume_a='pos')\n",
        "            # train_component = train_component[:1000]\n",
        "            print(train_component)\n",
        "\n",
        "        def model(images):\n",
        "            return jnp.dot(self.KERNEL_FN(images, self.x_train), train_component)\n",
        "\n",
        "        return model\n",
        "\n",
        "\n",
        "def FullyConnectedNetwork(\n",
        "    depth,\n",
        "    width,\n",
        "    W_std = np.sqrt(2),\n",
        "    b_std = 0.1,\n",
        "    num_classes = 10,\n",
        "    parameterization = 'ntk',\n",
        "    activation = 'relu'):\n",
        "  \"\"\"Returns neural_tangents.stax fully connected network.\"\"\"\n",
        "  activation_fn = stax.Relu()\n",
        "  dense = functools.partial(\n",
        "      stax.Dense, W_std=W_std, b_std=b_std, parameterization=parameterization)\n",
        "\n",
        "  layers = [stax.Flatten()]\n",
        "  for _ in range(depth):\n",
        "    layers += [dense(width), activation_fn]\n",
        "  layers += [stax.Dense(num_classes, W_std=W_std, b_std=b_std,\n",
        "                        parameterization=parameterization)]\n",
        "\n",
        "  return stax.serial(*layers)\n",
        "\n",
        "def FullyConvolutionalNetwork(\n",
        "    depth,\n",
        "    width,\n",
        "    W_std = np.sqrt(2),\n",
        "    b_std = 0.1,\n",
        "    num_classes = 10,\n",
        "    parameterization = 'ntk',\n",
        "    activation = 'relu'):\n",
        "  \"\"\"Returns neural_tangents.stax fully convolutional network.\"\"\"\n",
        "  activation_fn = stax.Relu()\n",
        "  layers = []\n",
        "  conv = functools.partial(\n",
        "      stax.Conv,\n",
        "      W_std=W_std,\n",
        "      b_std=b_std,\n",
        "      padding='SAME',\n",
        "      parameterization=parameterization)\n",
        "\n",
        "  for _ in range(depth):\n",
        "    layers += [conv(width, (3,3)), activation_fn]\n",
        "  layers += [stax.Flatten(), stax.Dense(num_classes, W_std=W_std, b_std=b_std,\n",
        "                                        parameterization=parameterization)]\n",
        "\n",
        "  return stax.serial(*layers)\n",
        "\n",
        "def MyrtleNetwork(\n",
        "    depth,\n",
        "    width,\n",
        "    W_std = np.sqrt(2),\n",
        "    b_std = 0.1,\n",
        "    num_classes = 10,\n",
        "    parameterization = 'ntk',\n",
        "    activation = 'relu'):\n",
        "  \"\"\"Returns neural_tangents.stax Myrtle network.\"\"\"\n",
        "  layer_factor = {5: [1, 1, 1], 7: [1, 2, 2], 10: [2, 3, 3]}\n",
        "  if depth not in layer_factor.keys():\n",
        "    raise NotImplementedError(\n",
        "        'Myrtle network withd depth %d is not implemented!' % depth)\n",
        "  activation_fn = stax.Relu()\n",
        "  layers = []\n",
        "  conv = functools.partial(\n",
        "      stax.Conv,\n",
        "      W_std=W_std,\n",
        "      b_std=b_std,\n",
        "      padding='SAME',\n",
        "      parameterization=parameterization)\n",
        "  layers += [conv(width, (3, 3)), activation_fn]\n",
        "\n",
        "  # generate blocks of convolutions followed by average pooling for each\n",
        "  # layer of layer_factor except the last\n",
        "  for block_depth in layer_factor[depth][:-1]:\n",
        "    for _ in range(block_depth):\n",
        "      layers += [conv(width, (3, 3)), activation_fn]\n",
        "    layers += [stax.AvgPool((2, 2), strides=(2, 2))]\n",
        "\n",
        "  # generate final blocks of convolution followed by global average pooling\n",
        "  for _ in range(layer_factor[depth][-1]):\n",
        "    layers += [conv(width, (3, 3)), activation_fn]\n",
        "  layers += [stax.GlobalAvgPool()]\n",
        "\n",
        "  layers += [\n",
        "      stax.Dense(num_classes, W_std, b_std, parameterization=parameterization)\n",
        "  ]\n",
        "\n",
        "  return stax.serial(*layers)\n",
        "\n",
        "def get_kernel_fn(architecture, depth, width=1000, parameterization='ntk', task='binary'):\n",
        "  if (task == 'binary'):\n",
        "      num_classes = 1\n",
        "  else:\n",
        "      num_classes = 10\n",
        "  if architecture == 'FC':\n",
        "    return FullyConnectedNetwork(depth=depth, width=width, parameterization=parameterization, num_classes=num_classes)\n",
        "  elif architecture == 'Conv':\n",
        "    return FullyConvolutionalNetwork(depth=depth, width=width, parameterization=parameterization, num_classes=num_classes)\n",
        "  elif architecture == 'Myrtle':\n",
        "    return MyrtleNetwork(depth=depth, width=width, parameterization=parameterization, num_classes=num_classes)\n",
        "  else:\n",
        "    raise NotImplementedError(f'Unrecognized architecture {architecture}')\n",
        "\n",
        "def model_eval(model_eig, i, x_test, y_test, img_index, i_to_label, suppress=False):\n",
        "    binary = True if TASK == 'binary' else False\n",
        "    print(f'----||--Eigenvector {i} stats--||----\\n')\n",
        "    print('Accuracy on cars', jnp.sum(jnp.logical_and(jnp.sign(model_eig(x_test)) == y_test, y_test == -jnp.ones_like(y_test))) / jnp.sum(y_test == -jnp.ones_like(y_test)))\n",
        "    print('Accuracy on airplanes', jnp.sum(jnp.logical_and(jnp.sign(model_eig(x_test)) == y_test, y_test == jnp.ones_like(y_test))) / jnp.sum(y_test == jnp.ones_like(y_test)))\n",
        "    # Natural accuracy\n",
        "    if (TASK == 'binary'):\n",
        "        assert model_eig(x_test).shape == (TEST_BATCH_SIZE,)\n",
        "        nat_acc = jnp.mean(jnp.sign(model_eig(x_test)) == y_test)\n",
        "    else:\n",
        "        assert model_eig(x_test).shape[0] == TEST_BATCH_SIZE and model_eig(x_test).shape[1] == 10\n",
        "        nat_acc = jnp.mean(model_eig(x_test).argmax(axis=1) == y_test.argmax(axis=1))\n",
        "    print('Total accuracy', nat_acc)\n",
        "    # Robust accuracy\n",
        "    adv_x, grads = _fast_gradient_method(model_eig, x_test, eps=8/255, norm=np.inf, clip_min=0, clip_max=1, y=y_test, binary=binary)\n",
        "    if (TASK == 'binary'):\n",
        "        assert model_eig(x_test).shape == (TEST_BATCH_SIZE,)\n",
        "        rob_acc = jnp.mean(jnp.sign(model_eig(adv_x)) == y_test)\n",
        "    else:\n",
        "        assert model_eig(x_test).shape[0] == TEST_BATCH_SIZE and model_eig(x_test).shape[1] == 10\n",
        "        rob_acc = jnp.mean(model_eig(adv_x).argmax(axis=1) == y_test.argmax(axis=1))\n",
        "    print(f\"Robust accuracy (using test labels) {rob_acc}\")\n",
        "\n",
        "    if (suppress):\n",
        "        return nat_acc, rob_acc\n",
        "    plt.imshow((normalize_img(grads[img_index])))\n",
        "    plt.axis('off')\n",
        "    plt.show()\n",
        "    plt.close()\n",
        "    print('\\n')\n",
        "    return nat_acc, rob_acc, grads\n",
        "\n",
        "img_index = 1\n",
        "i_to_label = {0: 'airplane', 1:  'car'}"
      ]
    },
    {
      "cell_type": "markdown",
      "metadata": {
        "id": "tI5619pQaBHf"
      },
      "source": [
        "## Load data"
      ]
    },
    {
      "cell_type": "code",
      "execution_count": 16,
      "metadata": {
        "id": "nrwCLYdZaBHf",
        "colab": {
          "base_uri": "https://localhost:8080/"
        },
        "outputId": "e8936e92-73d2-48a3-c0d0-8241b2514003"
      },
      "outputs": [
        {
          "output_type": "stream",
          "name": "stdout",
          "text": [
            "10000 2000\n"
          ]
        }
      ],
      "source": [
        "X_TRAIN_RAW, LABELS_TRAIN, X_TEST_RAW, LABELS_TEST = get_tfds_dataset(DATASET)\n",
        "if (TASK == 'binary'):\n",
        "    X_TRAIN_RAW, LABELS_TRAIN = select_data(X_TRAIN_RAW, LABELS_TRAIN, 0, 1) # please only use 0 and 1 for classes - otherwise change binarize_labels, too\n",
        "    X_TEST_RAW, LABELS_TEST = select_data(X_TEST_RAW, LABELS_TEST, 0, 1)\n",
        "    Y_TRAIN = binarize_labels(LABELS_TRAIN)\n",
        "    Y_TEST = binarize_labels(LABELS_TEST)\n",
        "else:\n",
        "    Y_TRAIN, Y_TEST = one_hot(LABELS_TRAIN, 10, center=False), one_hot(LABELS_TEST, 10, center=False)\n",
        "\n",
        "X_TRAIN, X_TEST = X_TRAIN_RAW / 255, X_TEST_RAW / 255\n",
        "print(len(X_TRAIN), len(X_TEST))"
      ]
    },
    {
      "cell_type": "code",
      "execution_count": 17,
      "metadata": {
        "id": "-ikoUC7h9KFE",
        "outputId": "15898614-1d38-4cf3-d318-f0257d107477",
        "colab": {
          "base_uri": "https://localhost:8080/"
        }
      },
      "outputs": [
        {
          "output_type": "stream",
          "name": "stdout",
          "text": [
            "2000 100\n"
          ]
        }
      ],
      "source": [
        "x_train, y_train = X_TRAIN[:TRAIN_BATCH_SIZE], Y_TRAIN[:TRAIN_BATCH_SIZE]\n",
        "# print(x_train)\n",
        "x_test, y_test = X_TEST[:TEST_BATCH_SIZE], Y_TEST[:TEST_BATCH_SIZE]\n",
        "print(len(x_train), len(x_test))\n",
        "x_train_re = x_train.reshape(2000, -1)\n",
        "x_train_ori = x_train_re.reshape((2000, 32, 32, 3))\n",
        "# print(x_train_ori)\n",
        "# print(x_train_re.shape,x_train_ori.shape)"
      ]
    },
    {
      "cell_type": "markdown",
      "metadata": {
        "id": "q-JxejxHRBQo"
      },
      "source": [
        "## Kernel inference"
      ]
    },
    {
      "cell_type": "code",
      "execution_count": 18,
      "metadata": {
        "id": "lXtA1iPqyONN"
      },
      "outputs": [],
      "source": [
        "def fit(x_train, y_train, x_test, y_test, TASK, depth=2):\n",
        "    binary = True if TASK == 'binary' else False\n",
        "    aux = []\n",
        "    _, _, kernel_fn = get_kernel_fn('FC', depth=depth, task=TASK)\n",
        "    kernel_obj = OverCompleteKernel(kernel_fn, x_train, y_train)\n",
        "    eig_idx = jnp.arange(2000)\n",
        "    model = kernel_obj.model_fn(eig_idx)\n",
        "    print(\"Full kernel stats\")\n",
        "    if (TASK == 'binary'):\n",
        "#         assert model(x_test).shape == (x_test.shape[0],)\n",
        "        _acc = jnp.mean(jnp.sign(model(x_test)) == y_test)\n",
        "        aux.append(_acc)\n",
        "    else:\n",
        "#         assert model(x_test).shape[0] == x_test.shape[0] and model(x_test).shape[1] == 10\n",
        "        _acc = jnp.mean(model(x_test).argmax(axis=1) == y_test.argmax(axis=1))\n",
        "        aux.append(_acc)\n",
        "    print(f\"Natural accuracy {_acc}\")\n",
        "    adv_x, grad = _fast_gradient_method(model, x_test, eps=8/255, norm=np.inf, clip_min=0, clip_max=1, y=y_test)\n",
        "    adv_x_pgd = _projected_gradient_descent(model, x_test, eps=8/255, eps_iter=0.01, nb_iter=10, norm=np.inf, clip_min=0, clip_max=1, y=y_test)\n",
        "    if (TASK == 'binary'):\n",
        "#         assert model(adv_x).shape == (x_test.shape[0],)\n",
        "        _acc = jnp.mean(jnp.sign(model(adv_x)) == y_test)\n",
        "        aux.append(_acc)\n",
        "        print(f'Robust fgsm accuracy (using test labels) {_acc}')\n",
        "        _acc = jnp.mean(jnp.sign(model(adv_x_pgd)) == y_test)\n",
        "        aux.append(_acc)\n",
        "    else:\n",
        "#         assert model(adv_x).shape[0] == x_test.shape[0] and model(adv_x).shape[1] == 10\n",
        "        _acc = jnp.mean(model(adv_x).argmax(axis=1) == y_test.argmax(axis=1))\n",
        "        aux.append(_acc)\n",
        "        print(f'Robust fgsm accuracy (using test labels) {_acc}')\n",
        "        _acc = jnp.mean(model(adv_x_pgd).argmax(axis=1) == y_test.argmax(axis=1))\n",
        "        aux.append(_acc)\n",
        "    print(f\"Robust pgd accuracy (using test labels) {_acc}\")\n",
        "    return kernel_obj, model, aux, adv_x, grad"
      ]
    },
    {
      "cell_type": "code",
      "execution_count": 19,
      "metadata": {
        "id": "0VmRWM_BaBHh",
        "outputId": "7cb99fdd-0303-48bf-ea4f-62e38326c2b1",
        "colab": {
          "base_uri": "https://localhost:8080/"
        }
      },
      "outputs": [
        {
          "output_type": "stream",
          "name": "stdout",
          "text": [
            "对角线元素从小到大排序： [8.0294067e+01 7.3725731e+01 7.1645027e+01 ... 2.1362424e-02 1.6759785e-02\n",
            " 4.6882054e-04]\n",
            "lambda: [[8.0294067e+01 0.0000000e+00 0.0000000e+00 ... 0.0000000e+00\n",
            "  0.0000000e+00 0.0000000e+00]\n",
            " [0.0000000e+00 7.3725731e+01 0.0000000e+00 ... 0.0000000e+00\n",
            "  0.0000000e+00 0.0000000e+00]\n",
            " [0.0000000e+00 0.0000000e+00 7.1645027e+01 ... 0.0000000e+00\n",
            "  0.0000000e+00 0.0000000e+00]\n",
            " ...\n",
            " [0.0000000e+00 0.0000000e+00 0.0000000e+00 ... 2.1362424e-02\n",
            "  0.0000000e+00 0.0000000e+00]\n",
            " [0.0000000e+00 0.0000000e+00 0.0000000e+00 ... 0.0000000e+00\n",
            "  1.6759785e-02 0.0000000e+00]\n",
            " [0.0000000e+00 0.0000000e+00 0.0000000e+00 ... 0.0000000e+00\n",
            "  0.0000000e+00 4.6882054e-04]]\n",
            "Full kernel stats\n",
            "Natural accuracy 0.8199999928474426\n",
            "Robust fgsm accuracy (using test labels) 0.3400000035762787\n",
            "Robust pgd accuracy (using test labels) 0.3400000035762787\n"
          ]
        }
      ],
      "source": [
        "kernel_obj, model, aux, adv_x, grads = fit(x_train, y_train, x_test, y_test, TASK, depth=1)"
      ]
    },
    {
      "cell_type": "markdown",
      "metadata": {
        "id": "thDsO6RuaBHh"
      },
      "source": [
        "### Show different NTK features"
      ]
    },
    {
      "cell_type": "code",
      "execution_count": 20,
      "metadata": {
        "id": "SWq8CSyjaBHh",
        "outputId": "f13ac82b-33d0-4250-f7b8-ed8c2f1e2f87",
        "colab": {
          "base_uri": "https://localhost:8080/",
          "height": 1000
        }
      },
      "outputs": [
        {
          "output_type": "stream",
          "name": "stdout",
          "text": [
            "对角线元素从小到大排序： [0.00046882]\n",
            "lambda: [[0.00046882 0.        ]\n",
            " [0.         0.00046882]]\n",
            "----||--Eigenvector 0 stats--||----\n",
            "\n",
            "Accuracy on cars 1.0\n",
            "Accuracy on airplanes 0.0\n",
            "Total accuracy 0.5\n",
            "Robust accuracy (using test labels) 0.5\n"
          ]
        },
        {
          "output_type": "display_data",
          "data": {
            "text/plain": [
              "<Figure size 640x480 with 1 Axes>"
            ],
            "image/png": "[encoded data removed]"
          },
          "metadata": {}
        },
        {
          "output_type": "stream",
          "name": "stdout",
          "text": [
            "\n",
            "\n",
            "对角线元素从小到大排序： [0.01675978]\n",
            "lambda: [[0.00046882 0.        ]\n",
            " [0.         0.00046882]]\n",
            "----||--Eigenvector 1 stats--||----\n",
            "\n",
            "Accuracy on cars 1.0\n",
            "Accuracy on airplanes 0.0\n",
            "Total accuracy 0.5\n",
            "Robust accuracy (using test labels) 0.5\n"
          ]
        },
        {
          "output_type": "display_data",
          "data": {
            "text/plain": [
              "<Figure size 640x480 with 1 Axes>"
            ],
            "image/png": "[encoded data removed]"
          },
          "metadata": {}
        },
        {
          "output_type": "stream",
          "name": "stdout",
          "text": [
            "\n",
            "\n",
            "对角线元素从小到大排序： [0.02136242]\n",
            "lambda: [[0.00046882 0.        ]\n",
            " [0.         0.00046882]]\n",
            "----||--Eigenvector 2 stats--||----\n",
            "\n",
            "Accuracy on cars 1.0\n",
            "Accuracy on airplanes 0.0\n",
            "Total accuracy 0.5\n",
            "Robust accuracy (using test labels) 0.5\n"
          ]
        },
        {
          "output_type": "display_data",
          "data": {
            "text/plain": [
              "<Figure size 640x480 with 1 Axes>"
            ],
            "image/png": "[encoded data removed]"
          },
          "metadata": {}
        },
        {
          "output_type": "stream",
          "name": "stdout",
          "text": [
            "\n",
            "\n",
            "对角线元素从小到大排序： [0.03707107]\n",
            "lambda: [[0.00046882 0.        ]\n",
            " [0.         0.00046882]]\n",
            "----||--Eigenvector 3 stats--||----\n",
            "\n",
            "Accuracy on cars 1.0\n",
            "Accuracy on airplanes 0.0\n",
            "Total accuracy 0.5\n",
            "Robust accuracy (using test labels) 0.5\n"
          ]
        },
        {
          "output_type": "display_data",
          "data": {
            "text/plain": [
              "<Figure size 640x480 with 1 Axes>"
            ],
            "image/png": "[encoded data removed]"
          },
          "metadata": {}
        },
        {
          "output_type": "stream",
          "name": "stdout",
          "text": [
            "\n",
            "\n",
            "对角线元素从小到大排序： [0.05291186]\n",
            "lambda: [[0.00046882 0.        ]\n",
            " [0.         0.00046882]]\n",
            "----||--Eigenvector 4 stats--||----\n",
            "\n",
            "Accuracy on cars 1.0\n",
            "Accuracy on airplanes 0.0\n",
            "Total accuracy 0.5\n",
            "Robust accuracy (using test labels) 0.5\n"
          ]
        },
        {
          "output_type": "display_data",
          "data": {
            "text/plain": [
              "<Figure size 640x480 with 1 Axes>"
            ],
            "image/png": "[encoded data removed]"
          },
          "metadata": {}
        },
        {
          "output_type": "stream",
          "name": "stdout",
          "text": [
            "\n",
            "\n",
            "对角线元素从小到大排序： [0.064534]\n",
            "lambda: [[0.00046882 0.        ]\n",
            " [0.         0.00046882]]\n",
            "----||--Eigenvector 5 stats--||----\n",
            "\n",
            "Accuracy on cars 1.0\n",
            "Accuracy on airplanes 0.0\n",
            "Total accuracy 0.5\n",
            "Robust accuracy (using test labels) 0.5\n"
          ]
        },
        {
          "output_type": "display_data",
          "data": {
            "text/plain": [
              "<Figure size 640x480 with 1 Axes>"
            ],
            "image/png": "[encoded data removed]"
          },
          "metadata": {}
        },
        {
          "output_type": "stream",
          "name": "stdout",
          "text": [
            "\n",
            "\n",
            "对角线元素从小到大排序： [0.1253753]\n",
            "lambda: [[0.00046882 0.        ]\n",
            " [0.         0.00046882]]\n",
            "----||--Eigenvector 10 stats--||----\n",
            "\n",
            "Accuracy on cars 1.0\n",
            "Accuracy on airplanes 0.0\n",
            "Total accuracy 0.5\n",
            "Robust accuracy (using test labels) 0.5\n"
          ]
        },
        {
          "output_type": "display_data",
          "data": {
            "text/plain": [
              "<Figure size 640x480 with 1 Axes>"
            ],
            "image/png": "[encoded data removed]"
          },
          "metadata": {}
        },
        {
          "output_type": "stream",
          "name": "stdout",
          "text": [
            "\n",
            "\n",
            "对角线元素从小到大排序： [0.36271146]\n",
            "lambda: [[0.00046882 0.        ]\n",
            " [0.         0.00046882]]\n",
            "----||--Eigenvector 25 stats--||----\n",
            "\n",
            "Accuracy on cars 1.0\n",
            "Accuracy on airplanes 0.0\n",
            "Total accuracy 0.5\n",
            "Robust accuracy (using test labels) 0.5\n"
          ]
        },
        {
          "output_type": "display_data",
          "data": {
            "text/plain": [
              "<Figure size 640x480 with 1 Axes>"
            ],
            "image/png": "[encoded data removed]"
          },
          "metadata": {}
        },
        {
          "output_type": "stream",
          "name": "stdout",
          "text": [
            "\n",
            "\n",
            "对角线元素从小到大排序： [20.316835]\n",
            "lambda: [[0.00046882 0.        ]\n",
            " [0.         0.00046882]]\n",
            "----||--Eigenvector 1500 stats--||----\n",
            "\n",
            "Accuracy on cars 1.0\n",
            "Accuracy on airplanes 0.0\n",
            "Total accuracy 0.5\n",
            "Robust accuracy (using test labels) 0.5\n"
          ]
        },
        {
          "output_type": "display_data",
          "data": {
            "text/plain": [
              "<Figure size 640x480 with 1 Axes>"
            ],
            "image/png": "[encoded data removed]"
          },
          "metadata": {}
        },
        {
          "output_type": "stream",
          "name": "stdout",
          "text": [
            "\n",
            "\n",
            "对角线元素从小到大排序： [46.941246]\n",
            "lambda: [[0.00046882 0.        ]\n",
            " [0.         0.00046882]]\n",
            "----||--Eigenvector 1987 stats--||----\n",
            "\n",
            "Accuracy on cars 1.0\n",
            "Accuracy on airplanes 0.0\n",
            "Total accuracy 0.5\n",
            "Robust accuracy (using test labels) 0.5\n"
          ]
        },
        {
          "output_type": "display_data",
          "data": {
            "text/plain": [
              "<Figure size 640x480 with 1 Axes>"
            ],
            "image/png": "[encoded data removed]"
          },
          "metadata": {}
        },
        {
          "output_type": "stream",
          "name": "stdout",
          "text": [
            "\n",
            "\n",
            "对角线元素从小到大排序： [47.213863]\n",
            "lambda: [[0.00046882 0.        ]\n",
            " [0.         0.00046882]]\n",
            "----||--Eigenvector 1988 stats--||----\n",
            "\n",
            "Accuracy on cars 1.0\n",
            "Accuracy on airplanes 0.0\n",
            "Total accuracy 0.5\n",
            "Robust accuracy (using test labels) 0.5\n"
          ]
        },
        {
          "output_type": "display_data",
          "data": {
            "text/plain": [
              "<Figure size 640x480 with 1 Axes>"
            ],
            "image/png": "[encoded data removed]"
          },
          "metadata": {}
        },
        {
          "output_type": "stream",
          "name": "stdout",
          "text": [
            "\n",
            "\n",
            "对角线元素从小到大排序： [73.72573]\n",
            "lambda: [[0.00046882 0.        ]\n",
            " [0.         0.00046882]]\n",
            "----||--Eigenvector 1998 stats--||----\n",
            "\n",
            "Accuracy on cars 1.0\n",
            "Accuracy on airplanes 0.0\n",
            "Total accuracy 0.5\n",
            "Robust accuracy (using test labels) 0.5\n"
          ]
        },
        {
          "output_type": "display_data",
          "data": {
            "text/plain": [
              "<Figure size 640x480 with 1 Axes>"
            ],
            "image/png": "[encoded data removed]"
          },
          "metadata": {}
        },
        {
          "output_type": "stream",
          "name": "stdout",
          "text": [
            "\n",
            "\n"
          ]
        }
      ],
      "source": [
        "new_grads = {}\n",
        "ntk_feats_indx = [0, 1, 2, 3, 4, 5, 10, 25, 1500, 1987, 1988, 1998] # change these if you'd like\n",
        "for j in ntk_feats_indx:\n",
        "    model_check = kernel_obj.model_fn(jnp.array(j))\n",
        "    _, _, new_grads[j] = model_eval(model_check, str(j), x_test, y_test, img_index, i_to_label)"
      ]
    },
    {
      "cell_type": "code",
      "source": [],
      "metadata": {
        "id": "vgwJirtzbNA1"
      },
      "execution_count": 20,
      "outputs": []
    }
  ],
  "metadata": {
    "accelerator": "GPU",
    "colab": {
      "provenance": [],
      "include_colab_link": true
    },
    "kernelspec": {
      "display_name": "Python 3",
      "name": "python3"
    },
    "language_info": {
      "name": "python"
    },
    "gpuClass": "standard"
  },
  "nbformat": 4,
  "nbformat_minor": 0
}