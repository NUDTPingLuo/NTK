{
  "cells": [
    {
      "cell_type": "markdown",
      "metadata": {
        "id": "view-in-github",
        "colab_type": "text"
      },
      "source": [
        "<a href=\"https://colab.research.google.com/github/NUDTPingLuo/NTK/blob/main/NTK_features_example.ipynb\" target=\"_parent\"><img src=\"https://colab.research.google.com/assets/colab-badge.svg\" alt=\"Open In Colab\"/></a>"
      ]
    },
    {
      "cell_type": "code",
      "source": [
        "!pip install cleverhans neural_tangents"
      ],
      "metadata": {
        "id": "RJIyDWDZaRn5",
        "colab": {
          "base_uri": "https://localhost:8080/"
        },
        "outputId": "5cae8a78-6d59-4589-e335-5f36bd4eb0bb"
      },
      "execution_count": 12,
      "outputs": [
        {
          "output_type": "stream",
          "name": "stdout",
          "text": [
            "Requirement already satisfied: cleverhans in /usr/local/lib/python3.11/dist-packages (4.0.0)\n",
            "Requirement already satisfied: neural_tangents in /usr/local/lib/python3.11/dist-packages (0.6.5)\n",
            "Requirement already satisfied: nose in /usr/local/lib/python3.11/dist-packages (from cleverhans) (1.3.7)\n",
            "Requirement already satisfied: pycodestyle in /usr/local/lib/python3.11/dist-packages (from cleverhans) (2.12.1)\n",
            "Requirement already satisfied: scipy in /usr/local/lib/python3.11/dist-packages (from cleverhans) (1.14.1)\n",
            "Requirement already satisfied: matplotlib in /usr/local/lib/python3.11/dist-packages (from cleverhans) (3.10.0)\n",
            "Requirement already satisfied: mnist in /usr/local/lib/python3.11/dist-packages (from cleverhans) (0.2.2)\n",
            "Requirement already satisfied: numpy in /usr/local/lib/python3.11/dist-packages (from cleverhans) (1.26.4)\n",
            "Requirement already satisfied: tensorflow-probability in /usr/local/lib/python3.11/dist-packages (from cleverhans) (0.25.0)\n",
            "Requirement already satisfied: joblib in /usr/local/lib/python3.11/dist-packages (from cleverhans) (1.4.2)\n",
            "Requirement already satisfied: easydict in /usr/local/lib/python3.11/dist-packages (from cleverhans) (1.13)\n",
            "Requirement already satisfied: absl-py in /usr/local/lib/python3.11/dist-packages (from cleverhans) (1.4.0)\n",
            "Requirement already satisfied: six in /usr/local/lib/python3.11/dist-packages (from cleverhans) (1.17.0)\n",
            "Requirement already satisfied: jax>=0.4.16 in /usr/local/lib/python3.11/dist-packages (from neural_tangents) (0.5.2)\n",
            "Requirement already satisfied: frozendict>=2.3.8 in /usr/local/lib/python3.11/dist-packages (from neural_tangents) (2.4.6)\n",
            "Requirement already satisfied: tensorflow>=2.15.0 in /usr/local/lib/python3.11/dist-packages (from neural_tangents) (2.18.0)\n",
            "Requirement already satisfied: tf2jax>=0.3.5 in /usr/local/lib/python3.11/dist-packages (from neural_tangents) (0.3.7)\n",
            "Requirement already satisfied: jaxlib<=0.5.2,>=0.5.1 in /usr/local/lib/python3.11/dist-packages (from jax>=0.4.16->neural_tangents) (0.5.1)\n",
            "Requirement already satisfied: ml_dtypes>=0.4.0 in /usr/local/lib/python3.11/dist-packages (from jax>=0.4.16->neural_tangents) (0.4.1)\n",
            "Requirement already satisfied: opt_einsum in /usr/local/lib/python3.11/dist-packages (from jax>=0.4.16->neural_tangents) (3.4.0)\n",
            "Requirement already satisfied: astunparse>=1.6.0 in /usr/local/lib/python3.11/dist-packages (from tensorflow>=2.15.0->neural_tangents) (1.6.3)\n",
            "Requirement already satisfied: flatbuffers>=24.3.25 in /usr/local/lib/python3.11/dist-packages (from tensorflow>=2.15.0->neural_tangents) (25.2.10)\n",
            "Requirement already satisfied: gast!=0.5.0,!=0.5.1,!=0.5.2,>=0.2.1 in /usr/local/lib/python3.11/dist-packages (from tensorflow>=2.15.0->neural_tangents) (0.6.0)\n",
            "Requirement already satisfied: google-pasta>=0.1.1 in /usr/local/lib/python3.11/dist-packages (from tensorflow>=2.15.0->neural_tangents) (0.2.0)\n",
            "Requirement already satisfied: libclang>=13.0.0 in /usr/local/lib/python3.11/dist-packages (from tensorflow>=2.15.0->neural_tangents) (18.1.1)\n",
            "Requirement already satisfied: packaging in /usr/local/lib/python3.11/dist-packages (from tensorflow>=2.15.0->neural_tangents) (24.2)\n",
            "Requirement already satisfied: protobuf!=4.21.0,!=4.21.1,!=4.21.2,!=4.21.3,!=4.21.4,!=4.21.5,<6.0.0dev,>=3.20.3 in /usr/local/lib/python3.11/dist-packages (from tensorflow>=2.15.0->neural_tangents) (4.25.6)\n",
            "Requirement already satisfied: requests<3,>=2.21.0 in /usr/local/lib/python3.11/dist-packages (from tensorflow>=2.15.0->neural_tangents) (2.32.3)\n",
            "Requirement already satisfied: setuptools in /usr/local/lib/python3.11/dist-packages (from tensorflow>=2.15.0->neural_tangents) (75.1.0)\n",
            "Requirement already satisfied: termcolor>=1.1.0 in /usr/local/lib/python3.11/dist-packages (from tensorflow>=2.15.0->neural_tangents) (2.5.0)\n",
            "Requirement already satisfied: typing-extensions>=3.6.6 in /usr/local/lib/python3.11/dist-packages (from tensorflow>=2.15.0->neural_tangents) (4.12.2)\n",
            "Requirement already satisfied: wrapt>=1.11.0 in /usr/local/lib/python3.11/dist-packages (from tensorflow>=2.15.0->neural_tangents) (1.17.2)\n",
            "Requirement already satisfied: grpcio<2.0,>=1.24.3 in /usr/local/lib/python3.11/dist-packages (from tensorflow>=2.15.0->neural_tangents) (1.70.0)\n",
            "Requirement already satisfied: tensorboard<2.19,>=2.18 in /usr/local/lib/python3.11/dist-packages (from tensorflow>=2.15.0->neural_tangents) (2.18.0)\n",
            "Requirement already satisfied: keras>=3.5.0 in /usr/local/lib/python3.11/dist-packages (from tensorflow>=2.15.0->neural_tangents) (3.8.0)\n",
            "Requirement already satisfied: h5py>=3.11.0 in /usr/local/lib/python3.11/dist-packages (from tensorflow>=2.15.0->neural_tangents) (3.12.1)\n",
            "Requirement already satisfied: tensorflow-io-gcs-filesystem>=0.23.1 in /usr/local/lib/python3.11/dist-packages (from tensorflow>=2.15.0->neural_tangents) (0.37.1)\n",
            "Requirement already satisfied: dm-tree>=0.1.5 in /usr/local/lib/python3.11/dist-packages (from tf2jax>=0.3.5->neural_tangents) (0.1.9)\n",
            "Requirement already satisfied: contourpy>=1.0.1 in /usr/local/lib/python3.11/dist-packages (from matplotlib->cleverhans) (1.3.1)\n",
            "Requirement already satisfied: cycler>=0.10 in /usr/local/lib/python3.11/dist-packages (from matplotlib->cleverhans) (0.12.1)\n",
            "Requirement already satisfied: fonttools>=4.22.0 in /usr/local/lib/python3.11/dist-packages (from matplotlib->cleverhans) (4.56.0)\n",
            "Requirement already satisfied: kiwisolver>=1.3.1 in /usr/local/lib/python3.11/dist-packages (from matplotlib->cleverhans) (1.4.8)\n",
            "Requirement already satisfied: pillow>=8 in /usr/local/lib/python3.11/dist-packages (from matplotlib->cleverhans) (11.1.0)\n",
            "Requirement already satisfied: pyparsing>=2.3.1 in /usr/local/lib/python3.11/dist-packages (from matplotlib->cleverhans) (3.2.1)\n",
            "Requirement already satisfied: python-dateutil>=2.7 in /usr/local/lib/python3.11/dist-packages (from matplotlib->cleverhans) (2.8.2)\n",
            "Requirement already satisfied: decorator in /usr/local/lib/python3.11/dist-packages (from tensorflow-probability->cleverhans) (4.4.2)\n",
            "Requirement already satisfied: cloudpickle>=1.3 in /usr/local/lib/python3.11/dist-packages (from tensorflow-probability->cleverhans) (3.1.1)\n",
            "Requirement already satisfied: wheel<1.0,>=0.23.0 in /usr/local/lib/python3.11/dist-packages (from astunparse>=1.6.0->tensorflow>=2.15.0->neural_tangents) (0.45.1)\n",
            "Requirement already satisfied: attrs>=18.2.0 in /usr/local/lib/python3.11/dist-packages (from dm-tree>=0.1.5->tf2jax>=0.3.5->neural_tangents) (25.1.0)\n",
            "Requirement already satisfied: rich in /usr/local/lib/python3.11/dist-packages (from keras>=3.5.0->tensorflow>=2.15.0->neural_tangents) (13.9.4)\n",
            "Requirement already satisfied: namex in /usr/local/lib/python3.11/dist-packages (from keras>=3.5.0->tensorflow>=2.15.0->neural_tangents) (0.0.8)\n",
            "Requirement already satisfied: optree in /usr/local/lib/python3.11/dist-packages (from keras>=3.5.0->tensorflow>=2.15.0->neural_tangents) (0.14.1)\n",
            "Requirement already satisfied: charset-normalizer<4,>=2 in /usr/local/lib/python3.11/dist-packages (from requests<3,>=2.21.0->tensorflow>=2.15.0->neural_tangents) (3.4.1)\n",
            "Requirement already satisfied: idna<4,>=2.5 in /usr/local/lib/python3.11/dist-packages (from requests<3,>=2.21.0->tensorflow>=2.15.0->neural_tangents) (3.10)\n",
            "Requirement already satisfied: urllib3<3,>=1.21.1 in /usr/local/lib/python3.11/dist-packages (from requests<3,>=2.21.0->tensorflow>=2.15.0->neural_tangents) (2.3.0)\n",
            "Requirement already satisfied: certifi>=2017.4.17 in /usr/local/lib/python3.11/dist-packages (from requests<3,>=2.21.0->tensorflow>=2.15.0->neural_tangents) (2025.1.31)\n",
            "Requirement already satisfied: markdown>=2.6.8 in /usr/local/lib/python3.11/dist-packages (from tensorboard<2.19,>=2.18->tensorflow>=2.15.0->neural_tangents) (3.7)\n",
            "Requirement already satisfied: tensorboard-data-server<0.8.0,>=0.7.0 in /usr/local/lib/python3.11/dist-packages (from tensorboard<2.19,>=2.18->tensorflow>=2.15.0->neural_tangents) (0.7.2)\n",
            "Requirement already satisfied: werkzeug>=1.0.1 in /usr/local/lib/python3.11/dist-packages (from tensorboard<2.19,>=2.18->tensorflow>=2.15.0->neural_tangents) (3.1.3)\n",
            "Requirement already satisfied: MarkupSafe>=2.1.1 in /usr/local/lib/python3.11/dist-packages (from werkzeug>=1.0.1->tensorboard<2.19,>=2.18->tensorflow>=2.15.0->neural_tangents) (3.0.2)\n",
            "Requirement already satisfied: markdown-it-py>=2.2.0 in /usr/local/lib/python3.11/dist-packages (from rich->keras>=3.5.0->tensorflow>=2.15.0->neural_tangents) (3.0.0)\n",
            "Requirement already satisfied: pygments<3.0.0,>=2.13.0 in /usr/local/lib/python3.11/dist-packages (from rich->keras>=3.5.0->tensorflow>=2.15.0->neural_tangents) (2.18.0)\n",
            "Requirement already satisfied: mdurl~=0.1 in /usr/local/lib/python3.11/dist-packages (from markdown-it-py>=2.2.0->rich->keras>=3.5.0->tensorflow>=2.15.0->neural_tangents) (0.1.2)\n"
          ]
        }
      ]
    },
    {
      "cell_type": "code",
      "execution_count": 13,
      "metadata": {
        "id": "vVzNI23kaBHW"
      },
      "outputs": [],
      "source": [
        "import tensorflow as tf\n",
        "tf.config.experimental.set_visible_devices([], \"GPU\")\n",
        "import matplotlib.pyplot as plt\n",
        "import numpy as np\n",
        "import jax.numpy as jnp\n",
        "import jax.random as random\n",
        "import jax\n",
        "import tensorflow_datasets as tfds\n",
        "from jax import scipy as sp\n",
        "from jax import vmap, grad, jacfwd\n",
        "from jax.example_libraries.stax import logsoftmax\n",
        "from cleverhans.jax.utils import clip_eta, one_hot\n",
        "import functools\n",
        "import neural_tangents as nt\n",
        "from neural_tangents import stax"
      ]
    },
    {
      "cell_type": "code",
      "source": [
        "def orthogonal_random_projection_vector(x, target_dim, key):\n",
        "    \"\"\"\n",
        "    使用 JAX 进行单个向量的正交随机投影。\n",
        "\n",
        "    参数:\n",
        "    - x: (jnp.ndarray) 输入向量 (原始维度,)\n",
        "    - target_dim: (int) 降维后的目标维度\n",
        "    - key: (jax.random.PRNGKey) 随机种子\n",
        "\n",
        "    返回:\n",
        "    - x_proj: (jnp.ndarray) 投影后的向量 (target_dim,)\n",
        "    \"\"\"\n",
        "    d = x.shape[0]  # 原始维度\n",
        "    R = random.normal(key, (d, target_dim))  # 生成随机矩阵\n",
        "    Q, _ = jnp.linalg.qr(R)  # 进行 QR 分解，确保正交\n",
        "    x_proj = jnp.dot(x, Q)  # 计算投影\n",
        "\n",
        "    return x_proj\n",
        "\n",
        "key = random.PRNGKey(12)  # 设置随机种子\n",
        "\n",
        "k = 500  # 目标维度\n",
        "x_1 = np.random.randn(1000)\n",
        "x_2 = np.random.randn(1000)\n",
        "\n",
        "x_proj_1 = orthogonal_random_projection_vector(x_1, k, key)\n",
        "x_proj_2 = orthogonal_random_projection_vector(x_2, k, key)\n",
        "\n",
        "# print(x_proj_1, x_proj_2)\n",
        "\n",
        "X_val1= np.dot(x_1, x_2)\n",
        "X_val2= np.dot(x_proj_1, x_proj_2)\n",
        "print(X_val1, X_val2)\n",
        "print(\"原始向量形状:\", x_1.shape)  # (1000,)\n",
        "print(\"投影后向量形状:\", x_proj_1.shape)  # (100,)"
      ],
      "metadata": {
        "colab": {
          "base_uri": "https://localhost:8080/"
        },
        "id": "Fx0u4LgkWasn",
        "outputId": "adff9d48-1944-4bb1-eeaf-1511e49e6f7a"
      },
      "execution_count": 14,
      "outputs": [
        {
          "output_type": "stream",
          "name": "stdout",
          "text": [
            "-18.1667432087708 -2.9321892\n",
            "原始向量形状: (1000,)\n",
            "投影后向量形状: (500,)\n"
          ]
        }
      ]
    },
    {
      "cell_type": "code",
      "source": [
        "def generate_vectors(n, d):\n",
        "    \"\"\"\n",
        "    随机生成 n 个 d 维向量，组成 n*d 矩阵。\n",
        "    \"\"\"\n",
        "    return np.random.rand(n, d)\n",
        "\n",
        "def pairwise_inner_product(matrix):\n",
        "    \"\"\"\n",
        "    计算矩阵中向量之间的两两内积，生成 n*n 矩阵。\n",
        "    \"\"\"\n",
        "    return np.dot(matrix, matrix.T)\n",
        "\n",
        "def split_and_average(matrix_m, s):\n",
        "    \"\"\"\n",
        "    将 m 个向量分成 s 份，每份取平均向量，并记录每份的索引。\n",
        "    \"\"\"\n",
        "    m = matrix_m.shape[0]\n",
        "    split_size = m // s  # 每份的大小\n",
        "    averaged_vectors = []\n",
        "    index_mapping = []  # 记录每份的索引\n",
        "\n",
        "    for i in range(s):\n",
        "        start = i * split_size\n",
        "        end = (i + 1) * split_size if i < s - 1 else m  # 最后一份可能包含剩余向量\n",
        "        subset = matrix_m[start:end]\n",
        "        averaged_vector = np.mean(subset, axis=0)  # 对每份取平均\n",
        "        averaged_vectors.append(averaged_vector)\n",
        "        index_mapping.extend([i] * (end - start))  # 记录每份的索引\n",
        "\n",
        "    return np.array(averaged_vectors), index_mapping\n",
        "\n",
        "def combine_matrices(matrix_n, matrix_m, matrix_m_averaged, index_mapping):\n",
        "    \"\"\"\n",
        "    将两个矩阵的内积结果组合成一个 (m+n)*(m+n) 的矩阵。\n",
        "    - n*n 和 m*m 部分正常计算。\n",
        "    - n*m 和 m*n 部分按照切分后的平均向量计算。\n",
        "    \"\"\"\n",
        "    n = matrix_n.shape[0]\n",
        "    m = matrix_m.shape[0]\n",
        "    s = matrix_m_averaged.shape[0]  # 平均后的向量数量\n",
        "\n",
        "    # 计算 n*n 和 m*m 的内积矩阵\n",
        "    inner_n = pairwise_inner_product(matrix_n)\n",
        "    inner_m = pairwise_inner_product(matrix_m)\n",
        "\n",
        "    # 计算 n 和 s 之间的内积矩阵（使用平均向量）\n",
        "    inner_ns = np.dot(matrix_n, matrix_m_averaged.T)\n",
        "\n",
        "    # 组合成一个 (m+n)*(m+n) 的矩阵\n",
        "    combined_matrix = np.zeros((n + m, n + m))\n",
        "\n",
        "    # 填充 n*n 部分\n",
        "    combined_matrix[:n, :n] = inner_n\n",
        "\n",
        "    # 填充 m*m 部分（正常计算）\n",
        "    combined_matrix[n:, n:] = inner_m\n",
        "\n",
        "    # 填充 n*m 和 m*n 部分（使用平均向量）\n",
        "    for i in range(n):\n",
        "        for j in range(m):\n",
        "            # 使用 index_mapping 找到对应的平均向量\n",
        "            combined_matrix[i, n + j] = inner_ns[i, index_mapping[j]]\n",
        "            combined_matrix[n + j, i] = combined_matrix[i, n + j]  # 对称性\n",
        "\n",
        "    return combined_matrix\n",
        "\n",
        "def compute_eigenvalues(matrix):\n",
        "    \"\"\"\n",
        "    计算矩阵的特征值。\n",
        "    \"\"\"\n",
        "    return np.linalg.eigvals(matrix)\n",
        "\n",
        "# 示例调用\n",
        "n = 3  # n 个向量\n",
        "m = 10  # m 个向量\n",
        "d = 4  # 每个向量的维度\n",
        "s = 10  # 将 m 个向量分成 s 份\n",
        "\n",
        "# 生成 n 个 d 维向量和 m 个 d 维向量\n",
        "matrix_n = generate_vectors(n, d)\n",
        "matrix_m = generate_vectors(m, d)\n",
        "\n",
        "# 将 m 个向量分成 s 份，每份取平均向量，并记录索引\n",
        "matrix_m_averaged, index_mapping = split_and_average(matrix_m, s)\n",
        "\n",
        "# 组合成 (m+n)*(m+n) 的矩阵\n",
        "combined_matrix = combine_matrices(matrix_n, matrix_m, matrix_m_averaged, index_mapping)\n",
        "\n",
        "# 计算未切分的 (m+n)*(m+n) 矩阵\n",
        "full_matrix = np.vstack((matrix_n, matrix_m))  # 组合成 (m+n)*d 的矩阵\n",
        "full_inner_matrix = pairwise_inner_product(full_matrix)  # 计算内积矩阵\n",
        "\n",
        "# 计算特征值\n",
        "eigenvalues_combined = compute_eigenvalues(combined_matrix)  # 切分后的矩阵特征值\n",
        "eigenvalues_full = compute_eigenvalues(full_inner_matrix)    # 未切分的矩阵特征值\n",
        "\n",
        "# 输出结果\n",
        "print(\"生成的 n 个向量：\")\n",
        "print(matrix_n)\n",
        "\n",
        "print(\"\\n生成的 m 个向量：\")\n",
        "print(matrix_m)\n",
        "\n",
        "print(\"\\n平均后的 m 个向量（分成 s 份）：\")\n",
        "print(matrix_m_averaged)\n",
        "\n",
        "print(\"\\n组合后的 (m+n)*(m+n) 矩阵：\")\n",
        "print(combined_matrix)\n",
        "\n",
        "print(\"\\n原始的 (m+n)*(m+n) 矩阵：\")\n",
        "print(full_inner_matrix)\n",
        "\n",
        "print(\"\\n切分后的 (m+n)*(m+n) 矩阵的特征值：\")\n",
        "print(eigenvalues_combined)\n",
        "\n",
        "print(\"\\n未切分的 (m+n)*(m+n) 矩阵的特征值：\")\n",
        "print(eigenvalues_full)"
      ],
      "metadata": {
        "colab": {
          "base_uri": "https://localhost:8080/"
        },
        "id": "iAgShCefcm1r",
        "outputId": "6ab6ace6-bfb2-4bd3-d69a-5b7fd8bde7c7"
      },
      "execution_count": 28,
      "outputs": [
        {
          "output_type": "stream",
          "name": "stdout",
          "text": [
            "生成的 n 个向量：\n",
            "[[0.85727977 0.87330458 0.40029848 0.93259921]\n",
            " [0.58638248 0.89793369 0.38540953 0.7484782 ]\n",
            " [0.92930479 0.37853044 0.61948141 0.99578312]]\n",
            "\n",
            "生成的 m 个向量：\n",
            "[[0.71529444 0.18773797 0.18865152 0.85377475]\n",
            " [0.73502648 0.70457729 0.66168532 0.17006868]\n",
            " [0.88408837 0.24048266 0.25230186 0.98633717]\n",
            " [0.90469848 0.44124948 0.63304398 0.4294293 ]\n",
            " [0.0390119  0.07023831 0.74789328 0.50764382]\n",
            " [0.65473415 0.79820631 0.45722267 0.81897664]\n",
            " [0.86856244 0.50421223 0.43730115 0.02952687]\n",
            " [0.23477608 0.48928204 0.11586942 0.01834132]\n",
            " [0.13605823 0.78292473 0.5836032  0.03765692]\n",
            " [0.31731987 0.60157432 0.14284091 0.92062071]]\n",
            "\n",
            "平均后的 m 个向量（分成 s 份）：\n",
            "[[0.71529444 0.18773797 0.18865152 0.85377475]\n",
            " [0.73502648 0.70457729 0.66168532 0.17006868]\n",
            " [0.88408837 0.24048266 0.25230186 0.98633717]\n",
            " [0.90469848 0.44124948 0.63304398 0.4294293 ]\n",
            " [0.0390119  0.07023831 0.74789328 0.50764382]\n",
            " [0.65473415 0.79820631 0.45722267 0.81897664]\n",
            " [0.86856244 0.50421223 0.43730115 0.02952687]\n",
            " [0.23477608 0.48928204 0.11586942 0.01834132]\n",
            " [0.13605823 0.78292473 0.5836032  0.03765692]\n",
            " [0.31731987 0.60157432 0.14284091 0.92062071]]\n",
            "\n",
            "组合后的 (m+n)*(m+n) 矩阵：\n",
            "[[2.52756965 2.13917247 2.30389058 1.64890645 1.66891145 1.988779\n",
            "  1.81481686 0.86759232 2.20517008 1.38751958 0.69204848 1.06910601\n",
            "  1.71313867]\n",
            " [2.13917247 1.85888945 1.86889927 1.29975225 1.44598287 1.56984282\n",
            "  1.49211176 0.75415077 1.88986511 1.15269919 0.63539667 1.03590828\n",
            "  1.47036145]\n",
            " [2.30389058 1.86889927 2.38223393 1.70283168 1.52902086 2.05109178\n",
            "  1.82754441 1.03165042 2.00935703 1.2983212  0.49342961 0.82182986\n",
            "  1.52782692]\n",
            " [1.64890645 1.29975225 1.70283168 1.31141239 0.92806455 1.56723812\n",
            "  1.21602567 0.61559608 1.40365865 0.82364449 0.29730914 0.38655455\n",
            "  1.15286535]\n",
            " [1.66891145 1.44598287 1.52902086 0.92806455 1.50344391 1.15395648\n",
            "  1.46778009 0.65936742 1.48546479 1.28805023 0.59709203 1.04420333\n",
            "  0.9081786 ]\n",
            " [1.988779   1.56984282 2.05109178 1.56723812 1.15395648 1.8759614\n",
            "  1.48922651 0.7407839  1.69394286 1.0285956  0.37255144 0.49295391\n",
            "  1.36928846]\n",
            " [1.81481686 1.49211176 1.82754441 1.21602567 1.46778009 1.48922651\n",
            "  1.59833465 0.7577331  1.58567973 1.29778107 0.50952375 0.85417428\n",
            "  1.03828924]\n",
            " [0.86759232 0.75415077 1.03165042 0.61559608 0.65936742 0.7407839\n",
            "  0.7577331  0.82350195 0.83930928 0.41134302 0.13949422 0.51588841\n",
            "  0.62880999]\n",
            " [2.20517008 1.88986511 2.00935703 1.40365865 1.48546479 1.69394286\n",
            "  1.58567973 0.83930928 1.94558543 1.1952687  0.61226317 1.01169419\n",
            "  1.50721754]\n",
            " [1.38751958 1.15269919 1.2983212  0.82364449 1.28805023 1.0285956\n",
            "  1.29778107 0.41134302 1.1952687  1.20073481 0.50183106 0.76925754\n",
            "  0.6685808 ]\n",
            " [0.69204848 0.63539667 0.49342961 0.29730914 0.59709203 0.37255144\n",
            "  0.50952375 0.13949422 0.61226317 0.50183106 0.30827885 0.48332667\n",
            "  0.40227492]\n",
            " [1.06910601 1.03590828 0.82182986 0.38655455 1.04420333 0.49295391\n",
            "  0.85417428 0.51588841 1.01169419 0.76925754 0.48332667 0.97349372\n",
            "  0.63219155]\n",
            " [1.71313867 1.47036145 1.52782692 1.15286535 0.9081786  1.36928846\n",
            "  1.03828924 0.62880999 1.50721754 0.6685808  0.40227492 0.63219155\n",
            "  1.33052959]]\n",
            "\n",
            "原始的 (m+n)*(m+n) 矩阵：\n",
            "[[2.52756965 2.13917247 2.30389058 1.64890645 1.66891145 1.988779\n",
            "  1.81481686 0.86759232 2.20517008 1.38751958 0.69204848 1.06910601\n",
            "  1.71313867]\n",
            " [2.13917247 1.85888945 1.86889927 1.29975225 1.44598287 1.56984282\n",
            "  1.49211176 0.75415077 1.88986511 1.15269919 0.63539667 1.03590828\n",
            "  1.47036145]\n",
            " [2.30389058 1.86889927 2.38223393 1.70283168 1.52902086 2.05109178\n",
            "  1.82754441 1.03165042 2.00935703 1.2983212  0.49342961 0.82182986\n",
            "  1.52782692]\n",
            " [1.64890645 1.29975225 1.70283168 1.31141239 0.92806455 1.56723812\n",
            "  1.21602567 0.61559608 1.40365865 0.82364449 0.29730914 0.38655455\n",
            "  1.15286535]\n",
            " [1.66891145 1.44598287 1.52902086 0.92806455 1.50344391 1.15395648\n",
            "  1.46778009 0.65936742 1.48546479 1.28805023 0.59709203 1.04420333\n",
            "  0.9081786 ]\n",
            " [1.988779   1.56984282 2.05109178 1.56723812 1.15395648 1.8759614\n",
            "  1.48922651 0.7407839  1.69394286 1.0285956  0.37255144 0.49295391\n",
            "  1.36928846]\n",
            " [1.81481686 1.49211176 1.82754441 1.21602567 1.46778009 1.48922651\n",
            "  1.59833465 0.7577331  1.58567973 1.29778107 0.50952375 0.85417428\n",
            "  1.03828924]\n",
            " [0.86759232 0.75415077 1.03165042 0.61559608 0.65936742 0.7407839\n",
            "  0.7577331  0.82350195 0.83930928 0.41134302 0.13949422 0.51588841\n",
            "  0.62880999]\n",
            " [2.20517008 1.88986511 2.00935703 1.40365865 1.48546479 1.69394286\n",
            "  1.58567973 0.83930928 1.94558543 1.1952687  0.61226317 1.01169419\n",
            "  1.50721754]\n",
            " [1.38751958 1.15269919 1.2983212  0.82364449 1.28805023 1.0285956\n",
            "  1.29778107 0.41134302 1.1952687  1.20073481 0.50183106 0.76925754\n",
            "  0.6685808 ]\n",
            " [0.69204848 0.63539667 0.49342961 0.29730914 0.59709203 0.37255144\n",
            "  0.50952375 0.13949422 0.61226317 0.50183106 0.30827885 0.48332667\n",
            "  0.40227492]\n",
            " [1.06910601 1.03590828 0.82182986 0.38655455 1.04420333 0.49295391\n",
            "  0.85417428 0.51588841 1.01169419 0.76925754 0.48332667 0.97349372\n",
            "  0.63219155]\n",
            " [1.71313867 1.47036145 1.52782692 1.15286535 0.9081786  1.36928846\n",
            "  1.03828924 0.62880999 1.50721754 0.6685808  0.40227492 0.63219155\n",
            "  1.33052959]]\n",
            "\n",
            "切分后的 (m+n)*(m+n) 矩阵的特征值：\n",
            "[ 1.66102520e+01+0.00000000e+00j  1.60364739e+00+0.00000000e+00j\n",
            "  8.18297186e-01+0.00000000e+00j  6.07773212e-01+0.00000000e+00j\n",
            "  9.47957040e-16+0.00000000e+00j -3.46140588e-16+0.00000000e+00j\n",
            " -1.69622900e-16+8.39707419e-17j -1.69622900e-16-8.39707419e-17j\n",
            "  2.57042101e-16+0.00000000e+00j  2.17246138e-16+0.00000000e+00j\n",
            " -7.77872240e-17+0.00000000e+00j  5.11972480e-17+1.76105820e-18j\n",
            "  5.11972480e-17-1.76105820e-18j]\n",
            "\n",
            "未切分的 (m+n)*(m+n) 矩阵的特征值：\n",
            "[ 1.66102520e+01+0.00000000e+00j  1.60364739e+00+0.00000000e+00j\n",
            "  8.18297186e-01+0.00000000e+00j  6.07773212e-01+0.00000000e+00j\n",
            "  6.98803731e-16+0.00000000e+00j -2.92190259e-16+0.00000000e+00j\n",
            " -2.31251794e-16+0.00000000e+00j  2.78626914e-16+0.00000000e+00j\n",
            "  1.35612529e-16+0.00000000e+00j  2.45533218e-17+5.89510000e-17j\n",
            "  2.45533218e-17-5.89510000e-17j  9.05149466e-18+8.12652033e-18j\n",
            "  9.05149466e-18-8.12652033e-18j]\n"
          ]
        }
      ]
    },
    {
      "cell_type": "markdown",
      "metadata": {
        "id": "JWgB_hZpaBHY"
      },
      "source": [
        "### Options"
      ]
    },
    {
      "cell_type": "code",
      "execution_count": 16,
      "metadata": {
        "id": "A83_vcWL0__f"
      },
      "outputs": [],
      "source": [
        "DATASET = 'cifar10' #@param ['cifar10', 'mnist']\n",
        "TASK = 'binary' #@param ['binary', 'multiclass']\n",
        "TRAIN_BATCH_SIZE = 2000 #@param\n",
        "TEST_BATCH_SIZE = 100 #@param\n",
        "RANDOM_LABELS = False\n",
        "NORMLZ = False #@param {type:\"boolean\"}"
      ]
    },
    {
      "cell_type": "markdown",
      "metadata": {
        "id": "cb3cTvj4aBHa"
      },
      "source": [
        "### Utils"
      ]
    },
    {
      "cell_type": "code",
      "execution_count": 17,
      "metadata": {
        "id": "SM1yc9liaBHa"
      },
      "outputs": [],
      "source": [
        "def normalize_img(tensor):\n",
        "    tensor = (tensor - tensor.min()) / (tensor.max() - tensor.min())\n",
        "    return tensor\n",
        "\n",
        "def binarize_labels(labels):\n",
        "    labels = np.array(labels)\n",
        "    bin = lambda x: -1 if x == 0 else 1\n",
        "    return jnp.array(np.vectorize(bin)(labels))\n",
        "\n",
        "def select_data(images, _labels, class1, class2):\n",
        "    idx = np.logical_or(_labels == class1, _labels == class2)\n",
        "    images = images[idx]\n",
        "    labels = _labels[idx]\n",
        "    return images, labels\n",
        "\n",
        "def get_tfds_dataset(name):\n",
        "    assert name in ['cifar10', 'mnist']\n",
        "    ds_train, ds_test = tfds.as_numpy(\n",
        "      tfds.load(\n",
        "          name,\n",
        "          split=['train', 'test'],\n",
        "          batch_size=-1,\n",
        "          as_dataset_kwargs={'shuffle_files': True}))\n",
        "\n",
        "    return ds_train['image'], ds_train['label'], ds_test['image'], ds_test['label']\n",
        "\n",
        "def one_hot(x,\n",
        "            num_classes,\n",
        "            center=False,\n",
        "            dtype=np.float32):\n",
        "    assert len(x.shape) == 1\n",
        "    one_hot_vectors = np.array(x[:, None] == np.arange(num_classes), dtype)\n",
        "    if center:\n",
        "        one_hot_vectors = one_hot_vectors - 1. / num_classes\n",
        "    return one_hot_vectors\n",
        "\n",
        "def _fast_gradient_method(\n",
        "    model_fn, x, eps, norm, clip_min=None, clip_max=None, y=None, binary=True\n",
        "):\n",
        "\n",
        "    if y is None:\n",
        "        # Using model predictions as ground truth to avoid label leaking\n",
        "        if (binary):\n",
        "            y = jnp.sign(model_fn(x))\n",
        "        else:\n",
        "            x_labels = jnp.argmax(model_fn(x), axis=1)\n",
        "            y = one_hot(x_labels, 10)\n",
        "\n",
        "\n",
        "    def loss_adv_multi(image, label):\n",
        "        pred = model_fn(jnp.expand_dims(image, axis=0))\n",
        "        loss = -jnp.sum(logsoftmax(pred) * label)\n",
        "        return loss\n",
        "\n",
        "    def bce_w_logits(img, y, weight=None, average=False):\n",
        "        \"\"\"\n",
        "        Binary Cross Entropy Loss\n",
        "        Should be numerically stable, built based on: https://github.com/pytorch/pytorch/issues/751\n",
        "        :param x: Input tensor\n",
        "        :param y: Target tensor\n",
        "        :param weight: Vector of example weights\n",
        "        :param average: Boolean to average resulting loss vector\n",
        "        :return: Scalar value\n",
        "        \"\"\"\n",
        "        x = model_fn(img)\n",
        "        if (-1. in y):\n",
        "            y = (y+1)/2\n",
        "        max_val = jnp.clip(x, 0, None)\n",
        "        loss = x - x * y + max_val + jnp.log(jnp.exp(-max_val) + jnp.exp((-x - max_val)))\n",
        "\n",
        "        if weight is not None:\n",
        "            loss = loss * weight\n",
        "\n",
        "        if average:\n",
        "            return loss.mean()\n",
        "        else:\n",
        "            return loss.sum()\n",
        "\n",
        "    avoid_zero = 1e-3\n",
        "    if (binary):\n",
        "        grads_fn = grad(bce_w_logits)\n",
        "    else:\n",
        "        grads_fn = vmap(grad(loss_adv_multi), in_axes=(0, 0), out_axes=0)\n",
        "    # works for find_rob_kernel\n",
        "    grads = grads_fn(x, y)\n",
        "\n",
        "    axis = list(range(1, len(grads.shape)))\n",
        "    avoid_zero_div = 1e-12\n",
        "    if norm == np.inf:\n",
        "        perturbation = eps * jnp.sign(grads)\n",
        "    elif norm == 2:\n",
        "        square = np.maximum(\n",
        "            avoid_zero_div, np.sum(np.square(grads), axis=axis, keepdims=True)\n",
        "        )\n",
        "        perturbation = grads / np.sqrt(square)\n",
        "\n",
        "    adv_x = x + perturbation\n",
        "    # If clipping is needed, reset all values outside of [clip_min, clip_max]\n",
        "    if (clip_min is not None) or (clip_max is not None):\n",
        "        # We don't currently support one-sided clipping\n",
        "        assert clip_min is not None and clip_max is not None\n",
        "        adv_x = np.clip(adv_x, a_min=clip_min, a_max=clip_max)\n",
        "    return adv_x, grads\n",
        "\n",
        "def _projected_gradient_descent(\n",
        "    model_fn,\n",
        "    x,\n",
        "    eps,\n",
        "    eps_iter,\n",
        "    nb_iter,\n",
        "    norm,\n",
        "    clip_min=None,\n",
        "    clip_max=None,\n",
        "    y=None,\n",
        "    binary=True,\n",
        "    rand_init=None,\n",
        "    rand_minmax=0.3,\n",
        "):\n",
        "    \"\"\"\n",
        "    This class implements either the Basic Iterative Method\n",
        "    (Kurakin et al. 2016) when rand_init is set to 0. or the\n",
        "    Madry et al. (2017) method when rand_minmax is larger than 0.\n",
        "    Paper link (Kurakin et al. 2016): https://arxiv.org/pdf/1607.02533.pdf\n",
        "    Paper link (Madry et al. 2017): https://arxiv.org/pdf/1706.06083.pdf\n",
        "    :param model_fn: a callable that takes an input tensor and returns the model logits.\n",
        "    :param x: input tensor.\n",
        "    :param eps: epsilon (input variation parameter); see https://arxiv.org/abs/1412.6572.\n",
        "    :param eps_iter: step size for each attack iteration\n",
        "    :param nb_iter: Number of attack iterations.\n",
        "    :param norm: Order of the norm (mimics NumPy). Possible values: np.inf or 2.\n",
        "    :param clip_min: (optional) float. Minimum float value for adversarial example components.\n",
        "    :param clip_max: (optional) float. Maximum float value for adversarial example components.\n",
        "    :param y: (optional) Tensor with true labels. If targeted is true, then provide the\n",
        "              target label. Otherwise, only provide this parameter if you'd like to use true\n",
        "              labels when crafting adversarial samples. Otherwise, model predictions are used\n",
        "              as labels to avoid the \"label leaking\" effect (explained in this paper:\n",
        "              https://arxiv.org/abs/1611.01236). Default is None.\n",
        "    :param targeted: (optional) bool. Is the attack targeted or untargeted?\n",
        "              Untargeted, the default, will try to make the label incorrect.\n",
        "              Targeted will instead try to move in the direction of being more like y.\n",
        "    :return: a tensor for the adversarial example\n",
        "    \"\"\"\n",
        "\n",
        "    assert eps_iter <= eps, (eps_iter, eps)\n",
        "    if norm == 1:\n",
        "        raise NotImplementedError(\n",
        "            \"It's not clear that FGM is a good inner loop\"\n",
        "            \" step for PGD when norm=1, because norm=1 FGM \"\n",
        "            \" changes only one pixel at a time. We need \"\n",
        "            \" to rigorously test a strong norm=1 PGD \"\n",
        "            \"before enabling this feature.\"\n",
        "        )\n",
        "    if norm not in [np.inf, 2]:\n",
        "        raise ValueError(\"Norm order must be either np.inf or 2.\")\n",
        "\n",
        "    # Initialize loop variables\n",
        "    if rand_init:\n",
        "        rand_minmax = eps\n",
        "        eta = np.random.uniform(x.shape, -rand_minmax, rand_minmax)\n",
        "    else:\n",
        "        eta = np.zeros_like(x)\n",
        "\n",
        "    # Clip eta\n",
        "    eta = clip_eta(eta, norm, eps)\n",
        "    adv_x = x + eta\n",
        "    if clip_min is not None or clip_max is not None:\n",
        "        adv_x = np.clip(adv_x, a_min=clip_min, a_max=clip_max)\n",
        "\n",
        "    if y is None:\n",
        "        # Using model predictions as ground truth to avoid label leaking\n",
        "        x_labels = np.argmax(model_fn(x), 1)\n",
        "        y = one_hot(x_labels, 10)\n",
        "\n",
        "    for _ in range(nb_iter):\n",
        "        adv_x, _ = _fast_gradient_method(\n",
        "            model_fn,\n",
        "            adv_x,\n",
        "            eps_iter,\n",
        "            norm,\n",
        "            clip_min=clip_min,\n",
        "            clip_max=clip_max,\n",
        "            y=y,\n",
        "            binary=binary\n",
        "        )\n",
        "\n",
        "        # Clipping perturbation eta to norm norm ball\n",
        "        eta = adv_x - x\n",
        "        eta = clip_eta(eta, norm, eps)\n",
        "        adv_x = x + eta\n",
        "\n",
        "        # Redo the clipping.\n",
        "        # FGM already did it, but subtracting and re-adding eta can add some\n",
        "        # small numerical error.\n",
        "        if clip_min is not None or clip_max is not None:\n",
        "            adv_x = np.clip(adv_x, a_min=clip_min, a_max=clip_max)\n",
        "\n",
        "    return adv_x\n",
        "\n",
        "class OverCompleteKernel():\n",
        "\n",
        "    def __init__(self, kernel_fn, x_train, y_train):\n",
        "        _kernel_fn = nt.batch(kernel_fn, device_count=-1, batch_size=50)\n",
        "        self.KERNEL_FN = lambda x, x_: kernel_fn(x, x_, 'ntk')\n",
        "        self._KERNEL_FN = lambda x, x_: _kernel_fn(x, x_, 'ntk')\n",
        "        self.k_ss = self.KERNEL_FN(x_train, x_train)\n",
        "        self.x_train, self.y_train = x_train, y_train\n",
        "        self.inv_k_ss = None\n",
        "        self.l = None\n",
        "        self.v = None\n",
        "\n",
        "\n",
        "    def init_from_matrix(self, kernel_fn, kernel, x_train, y_train):\n",
        "        self.KERNEL_FN = kernel_fn\n",
        "        self.k_ss = kernel\n",
        "        self.x_train, self.y_train = x_train, y_train\n",
        "        self.inv_k_ss = None\n",
        "        self.l = None\n",
        "        self.v = None\n",
        "\n",
        "    def compute_eig_kernel(self, eig_idx): # temporary fix for OOM bug\n",
        "        if (self.l == None):\n",
        "            self.l, self.v = jnp.linalg.eigh(self.inv_k_ss)\n",
        "        V = jnp.array(jnp.take(self.v, eig_idx, axis=1), ndmin=2)\n",
        "        Lambda = jnp.array(jnp.diag(jnp.take(self.l, eig_idx).reshape(-1)), ndmin=2)\n",
        "        try:\n",
        "            assert eig_idx.shape[0] > 1\n",
        "            return V @ Lambda @ V.T\n",
        "        except:\n",
        "            return V.reshape(-1, 1) @ Lambda.reshape(1, 1) @ V.T.reshape(1, -1)\n",
        "\n",
        "\n",
        "    def model_fn(self, eig_idx=None):\n",
        "        if (eig_idx is not None):\n",
        "            if (self.l is None):\n",
        "                self.inv_k_ss = jnp.linalg.inv(self.k_ss)\n",
        "            _inv_idx = self.compute_eig_kernel(eig_idx)\n",
        "            train_component = _inv_idx @ self.y_train\n",
        "        else:\n",
        "            _k_ss = self.k_ss\n",
        "            train_component = sp.linalg.solve(_k_ss, self.y_train, assume_a='pos')\n",
        "\n",
        "        def model(images):\n",
        "            return jnp.dot(self.KERNEL_FN(images, self.x_train), train_component)\n",
        "\n",
        "        return model\n",
        "\n",
        "\n",
        "def FullyConnectedNetwork(\n",
        "    depth,\n",
        "    width,\n",
        "    W_std = np.sqrt(2),\n",
        "    b_std = 0.1,\n",
        "    num_classes = 10,\n",
        "    parameterization = 'ntk',\n",
        "    activation = 'relu'):\n",
        "  \"\"\"Returns neural_tangents.stax fully connected network.\"\"\"\n",
        "  activation_fn = stax.Relu()\n",
        "  dense = functools.partial(\n",
        "      stax.Dense, W_std=W_std, b_std=b_std, parameterization=parameterization)\n",
        "\n",
        "  layers = [stax.Flatten()]\n",
        "  for _ in range(depth):\n",
        "    layers += [dense(width), activation_fn]\n",
        "  layers += [stax.Dense(num_classes, W_std=W_std, b_std=b_std,\n",
        "                        parameterization=parameterization)]\n",
        "\n",
        "  return stax.serial(*layers)\n",
        "\n",
        "def FullyConvolutionalNetwork(\n",
        "    depth,\n",
        "    width,\n",
        "    W_std = np.sqrt(2),\n",
        "    b_std = 0.1,\n",
        "    num_classes = 10,\n",
        "    parameterization = 'ntk',\n",
        "    activation = 'relu'):\n",
        "  \"\"\"Returns neural_tangents.stax fully convolutional network.\"\"\"\n",
        "  activation_fn = stax.Relu()\n",
        "  layers = []\n",
        "  conv = functools.partial(\n",
        "      stax.Conv,\n",
        "      W_std=W_std,\n",
        "      b_std=b_std,\n",
        "      padding='SAME',\n",
        "      parameterization=parameterization)\n",
        "\n",
        "  for _ in range(depth):\n",
        "    layers += [conv(width, (3,3)), activation_fn]\n",
        "  layers += [stax.Flatten(), stax.Dense(num_classes, W_std=W_std, b_std=b_std,\n",
        "                                        parameterization=parameterization)]\n",
        "\n",
        "  return stax.serial(*layers)\n",
        "\n",
        "def MyrtleNetwork(\n",
        "    depth,\n",
        "    width,\n",
        "    W_std = np.sqrt(2),\n",
        "    b_std = 0.1,\n",
        "    num_classes = 10,\n",
        "    parameterization = 'ntk',\n",
        "    activation = 'relu'):\n",
        "  \"\"\"Returns neural_tangents.stax Myrtle network.\"\"\"\n",
        "  layer_factor = {5: [1, 1, 1], 7: [1, 2, 2], 10: [2, 3, 3]}\n",
        "  if depth not in layer_factor.keys():\n",
        "    raise NotImplementedError(\n",
        "        'Myrtle network withd depth %d is not implemented!' % depth)\n",
        "  activation_fn = stax.Relu()\n",
        "  layers = []\n",
        "  conv = functools.partial(\n",
        "      stax.Conv,\n",
        "      W_std=W_std,\n",
        "      b_std=b_std,\n",
        "      padding='SAME',\n",
        "      parameterization=parameterization)\n",
        "  layers += [conv(width, (3, 3)), activation_fn]\n",
        "\n",
        "  # generate blocks of convolutions followed by average pooling for each\n",
        "  # layer of layer_factor except the last\n",
        "  for block_depth in layer_factor[depth][:-1]:\n",
        "    for _ in range(block_depth):\n",
        "      layers += [conv(width, (3, 3)), activation_fn]\n",
        "    layers += [stax.AvgPool((2, 2), strides=(2, 2))]\n",
        "\n",
        "  # generate final blocks of convolution followed by global average pooling\n",
        "  for _ in range(layer_factor[depth][-1]):\n",
        "    layers += [conv(width, (3, 3)), activation_fn]\n",
        "  layers += [stax.GlobalAvgPool()]\n",
        "\n",
        "  layers += [\n",
        "      stax.Dense(num_classes, W_std, b_std, parameterization=parameterization)\n",
        "  ]\n",
        "\n",
        "  return stax.serial(*layers)\n",
        "\n",
        "def get_kernel_fn(architecture, depth, width=1000, parameterization='ntk', task='binary'):\n",
        "  if (task == 'binary'):\n",
        "      num_classes = 1\n",
        "  else:\n",
        "      num_classes = 10\n",
        "  if architecture == 'FC':\n",
        "    return FullyConnectedNetwork(depth=depth, width=width, parameterization=parameterization, num_classes=num_classes)\n",
        "  elif architecture == 'Conv':\n",
        "    return FullyConvolutionalNetwork(depth=depth, width=width, parameterization=parameterization, num_classes=num_classes)\n",
        "  elif architecture == 'Myrtle':\n",
        "    return MyrtleNetwork(depth=depth, width=width, parameterization=parameterization, num_classes=num_classes)\n",
        "  else:\n",
        "    raise NotImplementedError(f'Unrecognized architecture {architecture}')\n",
        "\n",
        "def model_eval(model_eig, i, x_test, y_test, img_index, i_to_label, suppress=False):\n",
        "    binary = True if TASK == 'binary' else False\n",
        "    print(f'----||--Eigenvector {i} stats--||----\\n')\n",
        "    print('Accuracy on cars', jnp.sum(jnp.logical_and(jnp.sign(model_eig(x_test)) == y_test, y_test == -jnp.ones_like(y_test))) / jnp.sum(y_test == -jnp.ones_like(y_test)))\n",
        "    print('Accuracy on airplanes', jnp.sum(jnp.logical_and(jnp.sign(model_eig(x_test)) == y_test, y_test == jnp.ones_like(y_test))) / jnp.sum(y_test == jnp.ones_like(y_test)))\n",
        "    # Natural accuracy\n",
        "    if (TASK == 'binary'):\n",
        "        assert model_eig(x_test).shape == (TEST_BATCH_SIZE,)\n",
        "        nat_acc = jnp.mean(jnp.sign(model_eig(x_test)) == y_test)\n",
        "    else:\n",
        "        assert model_eig(x_test).shape[0] == TEST_BATCH_SIZE and model_eig(x_test).shape[1] == 10\n",
        "        nat_acc = jnp.mean(model_eig(x_test).argmax(axis=1) == y_test.argmax(axis=1))\n",
        "    print('Total accuracy', nat_acc)\n",
        "    # Robust accuracy\n",
        "    adv_x, grads = _fast_gradient_method(model_eig, x_test, eps=8/255, norm=np.inf, clip_min=0, clip_max=1, y=y_test, binary=binary)\n",
        "    if (TASK == 'binary'):\n",
        "        assert model_eig(x_test).shape == (TEST_BATCH_SIZE,)\n",
        "        rob_acc = jnp.mean(jnp.sign(model_eig(adv_x)) == y_test)\n",
        "    else:\n",
        "        assert model_eig(x_test).shape[0] == TEST_BATCH_SIZE and model_eig(x_test).shape[1] == 10\n",
        "        rob_acc = jnp.mean(model_eig(adv_x).argmax(axis=1) == y_test.argmax(axis=1))\n",
        "    print(f\"Robust accuracy (using test labels) {rob_acc}\")\n",
        "\n",
        "    if (suppress):\n",
        "        return nat_acc, rob_acc\n",
        "    plt.imshow((normalize_img(grads[img_index])))\n",
        "    plt.axis('off')\n",
        "    plt.show()\n",
        "    plt.close()\n",
        "    print('\\n')\n",
        "    return nat_acc, rob_acc, grads\n",
        "\n",
        "img_index = 1\n",
        "i_to_label = {0: 'airplane',\n",
        "              1:  'car'}"
      ]
    },
    {
      "cell_type": "markdown",
      "metadata": {
        "id": "tI5619pQaBHf"
      },
      "source": [
        "## Load data"
      ]
    },
    {
      "cell_type": "code",
      "execution_count": 18,
      "metadata": {
        "id": "nrwCLYdZaBHf",
        "colab": {
          "base_uri": "https://localhost:8080/"
        },
        "outputId": "e917aed0-6dcd-4049-be36-34a9b997f1b1"
      },
      "outputs": [
        {
          "output_type": "stream",
          "name": "stdout",
          "text": [
            "10000 2000\n"
          ]
        }
      ],
      "source": [
        "X_TRAIN_RAW, LABELS_TRAIN, X_TEST_RAW, LABELS_TEST = get_tfds_dataset(DATASET)\n",
        "if (TASK == 'binary'):\n",
        "    X_TRAIN_RAW, LABELS_TRAIN = select_data(X_TRAIN_RAW, LABELS_TRAIN, 0, 1) # please only use 0 and 1 for classes - otherwise change binarize_labels, too\n",
        "    X_TEST_RAW, LABELS_TEST = select_data(X_TEST_RAW, LABELS_TEST, 0, 1)\n",
        "    Y_TRAIN = binarize_labels(LABELS_TRAIN)\n",
        "    Y_TEST = binarize_labels(LABELS_TEST)\n",
        "else:\n",
        "    Y_TRAIN, Y_TEST = one_hot(LABELS_TRAIN, 10, center=False), one_hot(LABELS_TEST, 10, center=False)\n",
        "\n",
        "X_TRAIN, X_TEST = X_TRAIN_RAW / 255, X_TEST_RAW / 255\n",
        "print(len(X_TRAIN), len(X_TEST))"
      ]
    },
    {
      "cell_type": "code",
      "execution_count": 19,
      "metadata": {
        "id": "-ikoUC7h9KFE",
        "colab": {
          "base_uri": "https://localhost:8080/"
        },
        "outputId": "4513492f-3a4c-4b03-f8cb-26933bd87f13"
      },
      "outputs": [
        {
          "output_type": "stream",
          "name": "stdout",
          "text": [
            "2000 100\n"
          ]
        }
      ],
      "source": [
        "x_train, y_train = X_TRAIN[:TRAIN_BATCH_SIZE], Y_TRAIN[:TRAIN_BATCH_SIZE]\n",
        "x_test, y_test = X_TEST[:TEST_BATCH_SIZE], Y_TEST[:TEST_BATCH_SIZE]\n",
        "print(len(x_train), len(x_test))"
      ]
    },
    {
      "cell_type": "markdown",
      "metadata": {
        "id": "q-JxejxHRBQo"
      },
      "source": [
        "## Kernel inference"
      ]
    },
    {
      "cell_type": "code",
      "execution_count": 20,
      "metadata": {
        "id": "lXtA1iPqyONN"
      },
      "outputs": [],
      "source": [
        "def fit(x_train, y_train, x_test, y_test, TASK, depth=2):\n",
        "    binary = True if TASK == 'binary' else False\n",
        "    aux = []\n",
        "    _, _, kernel_fn = get_kernel_fn('FC', depth=depth, task=TASK)\n",
        "    kernel_obj = OverCompleteKernel(kernel_fn, x_train, y_train)\n",
        "    model = kernel_obj.model_fn()\n",
        "    print(\"Full kernel stats\")\n",
        "    if (TASK == 'binary'):\n",
        "#         assert model(x_test).shape == (x_test.shape[0],)\n",
        "        _acc = jnp.mean(jnp.sign(model(x_test)) == y_test)\n",
        "        aux.append(_acc)\n",
        "    else:\n",
        "#         assert model(x_test).shape[0] == x_test.shape[0] and model(x_test).shape[1] == 10\n",
        "        _acc = jnp.mean(model(x_test).argmax(axis=1) == y_test.argmax(axis=1))\n",
        "        aux.append(_acc)\n",
        "    print(f\"Natural accuracy {_acc}\")\n",
        "    adv_x, grad = _fast_gradient_method(model, x_test, eps=8/255, norm=np.inf, clip_min=0, clip_max=1, y=y_test)\n",
        "    adv_x_pgd = _projected_gradient_descent(model, x_test, eps=8/255, eps_iter=0.01, nb_iter=10, norm=np.inf, clip_min=0, clip_max=1, y=y_test)\n",
        "    if (TASK == 'binary'):\n",
        "#         assert model(adv_x).shape == (x_test.shape[0],)\n",
        "        _acc = jnp.mean(jnp.sign(model(adv_x)) == y_test)\n",
        "        aux.append(_acc)\n",
        "        print(f'Robust fgsm accuracy (using test labels) {_acc}')\n",
        "        _acc = jnp.mean(jnp.sign(model(adv_x_pgd)) == y_test)\n",
        "        aux.append(_acc)\n",
        "    else:\n",
        "#         assert model(adv_x).shape[0] == x_test.shape[0] and model(adv_x).shape[1] == 10\n",
        "        _acc = jnp.mean(model(adv_x).argmax(axis=1) == y_test.argmax(axis=1))\n",
        "        aux.append(_acc)\n",
        "        print(f'Robust fgsm accuracy (using test labels) {_acc}')\n",
        "        _acc = jnp.mean(model(adv_x_pgd).argmax(axis=1) == y_test.argmax(axis=1))\n",
        "        aux.append(_acc)\n",
        "    print(f\"Robust pgd accuracy (using test labels) {_acc}\")\n",
        "    return kernel_obj, model, aux, adv_x, grad"
      ]
    },
    {
      "cell_type": "code",
      "execution_count": 21,
      "metadata": {
        "colab": {
          "base_uri": "https://localhost:8080/"
        },
        "id": "0VmRWM_BaBHh",
        "outputId": "5ffcc6ac-7902-440d-8912-9d2beb45ccf7"
      },
      "outputs": [
        {
          "output_type": "stream",
          "name": "stdout",
          "text": [
            "Full kernel stats\n",
            "Natural accuracy 0.8100000023841858\n",
            "Robust fgsm accuracy (using test labels) 0.019999999552965164\n",
            "Robust pgd accuracy (using test labels) 0.019999999552965164\n"
          ]
        }
      ],
      "source": [
        "kernel_obj, model, aux, adv_x, grads = fit(x_train, y_train, x_test, y_test, TASK, depth=1)"
      ]
    },
    {
      "cell_type": "markdown",
      "metadata": {
        "id": "thDsO6RuaBHh"
      },
      "source": [
        "### Show different NTK features"
      ]
    },
    {
      "cell_type": "code",
      "execution_count": 22,
      "metadata": {
        "colab": {
          "base_uri": "https://localhost:8080/",
          "height": 1000
        },
        "id": "SWq8CSyjaBHh",
        "outputId": "3ada08b3-fe57-4e64-cebc-175bf05fef00"
      },
      "outputs": [
        {
          "metadata": {
            "tags": null
          },
          "name": "stdout",
          "output_type": "stream",
          "text": [
            "----||--Eigenvector 0 stats--||----\n",
            "\n",
            "Accuracy on cars 1.0\n",
            "Accuracy on airplanes 0.0\n",
            "Total accuracy 0.5\n",
            "Robust accuracy (using test labels) 0.5\n"
          ]
        },
        {
          "data": {
            "image/png": "[encoded data removed]",
            "text/plain": [
              "<Figure size 640x480 with 1 Axes>"
            ]
          },
          "metadata": {},
          "output_type": "display_data"
        },
        {
          "metadata": {
            "tags": null
          },
          "name": "stdout",
          "output_type": "stream",
          "text": [
            "\n",
            "\n",
            "----||--Eigenvector 1 stats--||----\n",
            "\n",
            "Accuracy on cars 0.74\n",
            "Accuracy on airplanes 0.62\n",
            "Total accuracy 0.68\n",
            "Robust accuracy (using test labels) 0.5\n"
          ]
        },
        {
          "data": {
            "image/png": "[encoded data removed]",
            "text/plain": [
              "<Figure size 640x480 with 1 Axes>"
            ]
          },
          "metadata": {},
          "output_type": "display_data"
        },
        {
          "metadata": {
            "tags": null
          },
          "name": "stdout",
          "output_type": "stream",
          "text": [
            "\n",
            "\n",
            "----||--Eigenvector 2 stats--||----\n",
            "\n",
            "Accuracy on cars 0.5\n",
            "Accuracy on airplanes 0.58\n",
            "Total accuracy 0.53999996\n",
            "Robust accuracy (using test labels) 0.4699999988079071\n"
          ]
        },
        {
          "data": {
            "image/png": "[encoded data removed]",
            "text/plain": [
              "<Figure size 640x480 with 1 Axes>"
            ]
          },
          "metadata": {},
          "output_type": "display_data"
        },
        {
          "metadata": {
            "tags": null
          },
          "name": "stdout",
          "output_type": "stream",
          "text": [
            "\n",
            "\n",
            "----||--Eigenvector 3 stats--||----\n",
            "\n",
            "Accuracy on cars 0.59999996\n",
            "Accuracy on airplanes 0.62\n",
            "Total accuracy 0.61\n",
            "Robust accuracy (using test labels) 0.4399999976158142\n"
          ]
        },
        {
          "data": {
            "image/png": "[encoded data removed]",
            "text/plain": [
              "<Figure size 640x480 with 1 Axes>"
            ]
          },
          "metadata": {},
          "output_type": "display_data"
        },
        {
          "metadata": {
            "tags": null
          },
          "name": "stdout",
          "output_type": "stream",
          "text": [
            "\n",
            "\n",
            "----||--Eigenvector 4 stats--||----\n",
            "\n",
            "Accuracy on cars 0.45999998\n",
            "Accuracy on airplanes 0.52\n",
            "Total accuracy 0.48999998\n",
            "Robust accuracy (using test labels) 0.32999998331069946\n"
          ]
        },
        {
          "data": {
            "image/png": "[encoded data removed]",
            "text/plain": [
              "<Figure size 640x480 with 1 Axes>"
            ]
          },
          "metadata": {},
          "output_type": "display_data"
        },
        {
          "metadata": {
            "tags": null
          },
          "name": "stdout",
          "output_type": "stream",
          "text": [
            "\n",
            "\n",
            "----||--Eigenvector 5 stats--||----\n",
            "\n",
            "Accuracy on cars 0.58\n",
            "Accuracy on airplanes 0.53999996\n",
            "Total accuracy 0.56\n",
            "Robust accuracy (using test labels) 0.32999998331069946\n"
          ]
        },
        {
          "data": {
            "image/png": "[encoded data removed]",
            "text/plain": [
              "<Figure size 640x480 with 1 Axes>"
            ]
          },
          "metadata": {},
          "output_type": "display_data"
        },
        {
          "metadata": {
            "tags": null
          },
          "name": "stdout",
          "output_type": "stream",
          "text": [
            "\n",
            "\n",
            "----||--Eigenvector 10 stats--||----\n",
            "\n",
            "Accuracy on cars 0.52\n",
            "Accuracy on airplanes 0.65999997\n",
            "Total accuracy 0.59\n",
            "Robust accuracy (using test labels) 0.25\n"
          ]
        },
        {
          "data": {
            "image/png": "[encoded data removed]",
            "text/plain": [
              "<Figure size 640x480 with 1 Axes>"
            ]
          },
          "metadata": {},
          "output_type": "display_data"
        },
        {
          "metadata": {
            "tags": null
          },
          "name": "stdout",
          "output_type": "stream",
          "text": [
            "\n",
            "\n",
            "----||--Eigenvector 25 stats--||----\n",
            "\n",
            "Accuracy on cars 0.45999998\n",
            "Accuracy on airplanes 0.56\n",
            "Total accuracy 0.51\n",
            "Robust accuracy (using test labels) 0.07000000029802322\n"
          ]
        },
        {
          "data": {
            "image/png": "[encoded data removed]",
            "text/plain": [
              "<Figure size 640x480 with 1 Axes>"
            ]
          },
          "metadata": {},
          "output_type": "display_data"
        },
        {
          "metadata": {
            "tags": null
          },
          "name": "stdout",
          "output_type": "stream",
          "text": [
            "\n",
            "\n",
            "----||--Eigenvector 1500 stats--||----\n",
            "\n",
            "Accuracy on cars 0.52\n",
            "Accuracy on airplanes 0.5\n",
            "Total accuracy 0.51\n",
            "Robust accuracy (using test labels) 0.0\n"
          ]
        },
        {
          "data": {
            "image/png": "[encoded data removed]",
            "text/plain": [
              "<Figure size 640x480 with 1 Axes>"
            ]
          },
          "metadata": {},
          "output_type": "display_data"
        },
        {
          "metadata": {
            "tags": null
          },
          "name": "stdout",
          "output_type": "stream",
          "text": [
            "\n",
            "\n",
            "----||--Eigenvector 1987 stats--||----\n",
            "\n",
            "Accuracy on cars 0.53999996\n",
            "Accuracy on airplanes 0.58\n",
            "Total accuracy 0.56\n",
            "Robust accuracy (using test labels) 0.0\n"
          ]
        },
        {
          "data": {
            "image/png": "[encoded data removed]",
            "text/plain": [
              "<Figure size 640x480 with 1 Axes>"
            ]
          },
          "metadata": {},
          "output_type": "display_data"
        },
        {
          "metadata": {
            "tags": null
          },
          "name": "stdout",
          "output_type": "stream",
          "text": [
            "\n",
            "\n",
            "----||--Eigenvector 1988 stats--||----\n",
            "\n",
            "Accuracy on cars 0.48\n",
            "Accuracy on airplanes 0.48\n",
            "Total accuracy 0.48\n",
            "Robust accuracy (using test labels) 0.0\n"
          ]
        },
        {
          "data": {
            "image/png": "[encoded data removed]",
            "text/plain": [
              "<Figure size 640x480 with 1 Axes>"
            ]
          },
          "metadata": {},
          "output_type": "display_data"
        },
        {
          "metadata": {
            "tags": null
          },
          "name": "stdout",
          "output_type": "stream",
          "text": [
            "\n",
            "\n",
            "----||--Eigenvector 1998 stats--||----\n",
            "\n",
            "Accuracy on cars 0.42\n",
            "Accuracy on airplanes 0.5\n",
            "Total accuracy 0.45999998\n",
            "Robust accuracy (using test labels) 0.0\n"
          ]
        },
        {
          "data": {
            "image/png": "[encoded data removed]",
            "text/plain": [
              "<Figure size 640x480 with 1 Axes>"
            ]
          },
          "metadata": {},
          "output_type": "display_data"
        },
        {
          "metadata": {
            "tags": null
          },
          "name": "stdout",
          "output_type": "stream",
          "text": [
            "\n",
            "\n"
          ]
        }
      ],
      "source": [
        "new_grads = {}\n",
        "ntk_feats_indx = [0, 1, 2, 3, 4, 5, 10, 25, 1500, 1987, 1988, 1998] # change these if you'd like\n",
        "for j in ntk_feats_indx:\n",
        "    model_check = kernel_obj.model_fn(jnp.array(j))\n",
        "    _, _, new_grads[j] = model_eval(model_check, str(j), x_test, y_test, img_index, i_to_label)"
      ]
    },
    {
      "cell_type": "code",
      "source": [],
      "metadata": {
        "id": "vgwJirtzbNA1"
      },
      "execution_count": 22,
      "outputs": []
    }
  ],
  "metadata": {
    "accelerator": "GPU",
    "colab": {
      "provenance": [],
      "include_colab_link": true
    },
    "kernelspec": {
      "display_name": "Python 3",
      "name": "python3"
    },
    "language_info": {
      "name": "python"
    },
    "gpuClass": "standard"
  },
  "nbformat": 4,
  "nbformat_minor": 0
}